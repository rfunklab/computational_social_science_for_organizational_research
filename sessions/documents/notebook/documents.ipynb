{
 "cells": [
  {
   "cell_type": "markdown",
   "metadata": {},
   "source": [
    "# Computational Social Science for Organizational Research\n",
    "## Documents and Text\n",
    "\n",
    "## Roadmap\n",
    " * Corpora\n",
    " * Documents as bags of words\n",
    " * Tokenizing\n",
    " * Stemming and lemmatization\n",
    " * Zipf's law\n",
    " * Cleaning out the bag\n",
    " * Document similarity\n",
    " * Tf-Idf weighting\n",
    " * Exercises\n",
    " \n",
    "Natural language processing and related techniques represent, in my view, some of the most exciting areas of computational social science, especially for organizational researchers. As we all no doubt know from personal experience, organizations are great at generating massive amounts of documents. While that's always been true, digitization has taken it to a whole new level. Documents are the digital footprints of organizational activity. By studying documents, we can gain unprecedented insight into how organizations work. \n",
    "\n",
    "The challenge, however, is that much of the data we care about is highly unstructured, in the form of written text. Although traditional qualitative methods are valuable, the sheer scale of documents means that we can only read and evaluate a small subset of them by hand. You will also have trouble loading a text document into a rectangular matrix in your favorite statistical software.\n",
    "\n",
    "In this session, you'll get a crash course in how to start analyzing documents and text."
   ]
  },
  {
   "cell_type": "markdown",
   "metadata": {},
   "source": [
    "# Corpora\n",
    "\n",
    "Most typically, we'll use techniques from natural language processing when we have a large collection of documents that we would like to model or from which we would like to extract data or insights. In the land of natural language processing, a collection (or \"body\") of documents is called a [corpus](https://en.wikipedia.org/wiki/Text_corpus) (plural *corpora*). You can think of a corpus as your raw data. Most often, you'll probably be collecting a corpus of documents from some organization or research setting of interest, but there are also many publicly available corpora (often used for benchmarking new algorithms), like those from the [Linguistic Data Consortium](https://catalog.ldc.upenn.edu/).\n",
    "\n",
    "To help make our explorations of natural language processing more concrete, let's put together a simple corpus. In particular, let's download the abstracts for all patents that are classified as \"nanotechnology\" (B82Y) by the Cooperative Patent Classificaion scheme. We can do so easily using the code below, which queries the Patents View Application Programming Interface (API). Don't worry if you don't follow all the API wrangling, which is a bit beyond the scope of what we want to cover today."
   ]
  },
  {
   "cell_type": "code",
   "execution_count": 1,
   "metadata": {},
   "outputs": [],
   "source": [
    "# load some packages\n",
    "import requests\n",
    "import pathlib\n",
    "import pandas as pd\n",
    "\n",
    "# set some configuration parameters\n",
    "DATE_START = \"1997-01-01\"\n",
    "DATE_END = \"2003-12-31\"\n",
    "PER_PAGE = 9999\n",
    "BASE_URL = \"https://www.patentsview.org/api/patents/query\"\n",
    "CPC_GROUP_ID = \"B82Y\"\n",
    "\n",
    "\"\"\"\n",
    "# format our api query\n",
    "params = {'q': '{\"_and\":[{\"_gte\":{\"patent_date\":\"%s\"}},{\"_lt\":{\"patent_date\":\"%s\"}},{\"cpc_group_id\":\"%s\"}]}' % (DATE_START, \n",
    "                                                                                                                DATE_END, \n",
    "                                                                                                                CPC_GROUP_ID),\n",
    "          'f': '[\"patent_number\",\"patent_date\",\"patent_abstract\"]',\n",
    "          'o': '{\"per_page\":%s}' % (PER_PAGE,) }\n",
    "\n",
    "# send the query to the server\n",
    "r = requests.get(BASE_URL, params=params)\n",
    "\n",
    "# save response as dict\n",
    "abstracts_df = pd.DataFrame(r.json()[\"patents\"]).set_index(\"patent_number\")\n",
    "\n",
    "# make a directory to store the data\n",
    "pathlib.Path(\"pickles\").mkdir(parents=True, exist_ok=True)\n",
    "\n",
    "# save as pickle\n",
    "abstracts_df.to_pickle(\"pickles/abstracts_df.pickle\")\n",
    "\"\"\"\n",
    "\n",
    "# read from pickle\n",
    "abstracts_df = pd.read_pickle(\"pickles/abstracts_df.pickle\")"
   ]
  },
  {
   "cell_type": "code",
   "execution_count": 2,
   "metadata": {},
   "outputs": [
    {
     "data": {
      "text/html": [
       "<div>\n",
       "<style scoped>\n",
       "    .dataframe tbody tr th:only-of-type {\n",
       "        vertical-align: middle;\n",
       "    }\n",
       "\n",
       "    .dataframe tbody tr th {\n",
       "        vertical-align: top;\n",
       "    }\n",
       "\n",
       "    .dataframe thead th {\n",
       "        text-align: right;\n",
       "    }\n",
       "</style>\n",
       "<table border=\"1\" class=\"dataframe\">\n",
       "  <thead>\n",
       "    <tr style=\"text-align: right;\">\n",
       "      <th></th>\n",
       "      <th>patent_date</th>\n",
       "      <th>patent_abstract</th>\n",
       "    </tr>\n",
       "    <tr>\n",
       "      <th>patent_number</th>\n",
       "      <th></th>\n",
       "      <th></th>\n",
       "    </tr>\n",
       "  </thead>\n",
       "  <tbody>\n",
       "    <tr>\n",
       "      <th>5591238</th>\n",
       "      <td>1997-01-07</td>\n",
       "      <td>A method and nickel-containing catalyst are di...</td>\n",
       "    </tr>\n",
       "    <tr>\n",
       "      <th>5591487</th>\n",
       "      <td>1997-01-07</td>\n",
       "      <td>An information recording layer on a substrate ...</td>\n",
       "    </tr>\n",
       "    <tr>\n",
       "      <th>5591532</th>\n",
       "      <td>1997-01-07</td>\n",
       "      <td>A single layer film is deposited onto a substr...</td>\n",
       "    </tr>\n",
       "    <tr>\n",
       "      <th>5591690</th>\n",
       "      <td>1997-01-07</td>\n",
       "      <td>The present invention relates to a gettering m...</td>\n",
       "    </tr>\n",
       "    <tr>\n",
       "      <th>5591710</th>\n",
       "      <td>1997-01-07</td>\n",
       "      <td>Compositions and processes to alleviate oxygen...</td>\n",
       "    </tr>\n",
       "    <tr>\n",
       "      <th>...</th>\n",
       "      <td>...</td>\n",
       "      <td>...</td>\n",
       "    </tr>\n",
       "    <tr>\n",
       "      <th>6671141</th>\n",
       "      <td>2003-12-30</td>\n",
       "      <td>A ferromagnetic tunnel effective film has a fr...</td>\n",
       "    </tr>\n",
       "    <tr>\n",
       "      <th>6671301</th>\n",
       "      <td>2003-12-30</td>\n",
       "      <td>A semiconductor laser device including: a semi...</td>\n",
       "    </tr>\n",
       "    <tr>\n",
       "      <th>6671443</th>\n",
       "      <td>2003-12-30</td>\n",
       "      <td>A method for forming a hybrid active electroni...</td>\n",
       "    </tr>\n",
       "    <tr>\n",
       "      <th>6671624</th>\n",
       "      <td>2003-12-30</td>\n",
       "      <td>The present invention provides systems, method...</td>\n",
       "    </tr>\n",
       "    <tr>\n",
       "      <th>6671625</th>\n",
       "      <td>2003-12-30</td>\n",
       "      <td>A technique is disclosed that is useful for de...</td>\n",
       "    </tr>\n",
       "  </tbody>\n",
       "</table>\n",
       "<p>8322 rows × 2 columns</p>\n",
       "</div>"
      ],
      "text/plain": [
       "              patent_date                                    patent_abstract\n",
       "patent_number                                                               \n",
       "5591238        1997-01-07  A method and nickel-containing catalyst are di...\n",
       "5591487        1997-01-07  An information recording layer on a substrate ...\n",
       "5591532        1997-01-07  A single layer film is deposited onto a substr...\n",
       "5591690        1997-01-07  The present invention relates to a gettering m...\n",
       "5591710        1997-01-07  Compositions and processes to alleviate oxygen...\n",
       "...                   ...                                                ...\n",
       "6671141        2003-12-30  A ferromagnetic tunnel effective film has a fr...\n",
       "6671301        2003-12-30  A semiconductor laser device including: a semi...\n",
       "6671443        2003-12-30  A method for forming a hybrid active electroni...\n",
       "6671624        2003-12-30  The present invention provides systems, method...\n",
       "6671625        2003-12-30  A technique is disclosed that is useful for de...\n",
       "\n",
       "[8322 rows x 2 columns]"
      ]
     },
     "execution_count": 2,
     "metadata": {},
     "output_type": "execute_result"
    }
   ],
   "source": [
    "abstracts_df"
   ]
  },
  {
   "cell_type": "markdown",
   "metadata": {},
   "source": [
    "# Documents as bags of words\n",
    "\n",
    "Free-flowing text is too unstructured for computers to hanle. We're going to need to impose some order that will make a document look a bit more like traditional quantitative data (think rectangular matrices). There is a tradeoff here. On the one hand, by imposing structure, we're going to end up throwing away a lot of (important) information that is critical to a full understanding of the textual content of our documents. On the other hand, structure will also allow to use mathematical and statistical techniques, and therefore permit new kinds of insights on our corpus that would otherwise be impossible.\n",
    "\n",
    "There are many different ways we could think about imposing structure on free flowing text. In this session, we're going to use what is known in natural language processing as the \"bag of words\" model. I love the name of the model because it's so descriptive. As you might guess from the name, under this model, we're not going to worry about word order. We can think of as a jumble of words all mixed up in a shopping bag. What we will care about is word frequency. The basic idea is that even if you don't know anything about the word order of a document, knowing the relative frequency of different words tells you some important information. \n",
    "\n",
    "As an example, consider the following two sentences, taken from the abstract of patent [10,563,325](http://patft1.uspto.gov/netacgi/nph-Parser?patentnumber=10563325).\n",
    "\n",
    "> A method for making carbon fiber film includes growing a carbon nanotube array on a surface of a growth substrate.\n",
    "\n",
    "We might represent this in a bag-of-words format as a Python tuple."
   ]
  },
  {
   "cell_type": "code",
   "execution_count": 3,
   "metadata": {},
   "outputs": [],
   "source": [
    "doc1 = (\"A\", \"method\", \"for\", \"making\", \"carbon\", \"fiber\", \"film\", \"includes\", \"growing\",\n",
    "        \"a\", \"carbon\", \"nanotube\", \"array\", \"on\", \"a\", \"surface\", \"of\", \"a\", \"growth\", \n",
    "        \"substrate.\")"
   ]
  },
  {
   "cell_type": "markdown",
   "metadata": {},
   "source": [
    "If we want a little more structure, we can also represent as a Python dictionary, with keys representing words, and values representing frequencies."
   ]
  },
  {
   "cell_type": "code",
   "execution_count": 4,
   "metadata": {},
   "outputs": [],
   "source": [
    "document_1 = {\"a\": 3, \"carbon\": 2, \"A\": 1, \"method\": 1, \"for\": 1, \"making\": 1, \"fiber\": 1,\n",
    "              \"film\": 1, \"includes\": 1, \"growing\": 1, \"nanotube\": 1, \"array\": 1, \"on\": 1,\n",
    "              \"surface\": 1, \"of\": 1, \"growth\": 1, \"substrate.\": 1}"
   ]
  },
  {
   "cell_type": "markdown",
   "metadata": {},
   "source": [
    "This dictionary representation is nice, because it helps us to see that what we're essentially doing is treating documents as vectors of words. Note that we can easily extend this approach to multiple documents. Imagine that we encountered another nanotechnology patent that had the following sentence in its abstract.\n",
    "\n",
    "> A method for making a carbon nanotube.\n",
    "\n",
    "We can represent that patent using a dictionary just like we did before."
   ]
  },
  {
   "cell_type": "code",
   "execution_count": 5,
   "metadata": {},
   "outputs": [],
   "source": [
    "document_2 = {\"A\": 1, \"method\": 1, \"for\": 1, \"making\": 1, \"a\": 1, \"carbon\": 1, \"nanotube.\": 1}"
   ]
  },
  {
   "cell_type": "markdown",
   "metadata": {},
   "source": [
    "And from there, it's not a big leap to think that we might represent both documents together in a matrix.\n",
    "\n",
    "| term       | document_1 | document_2 |\n",
    "|------------|------------|------------|\n",
    "| a          | 3          | 1          |\n",
    "| A          | 1          | 1          |\n",
    "| array      | 1          | 0          |\n",
    "| carbon     | 2          | 1          |\n",
    "| fiber      | 1          | 0          |\n",
    "| film       | 1          | 0          |\n",
    "| for        | 1          | 1          |\n",
    "| growing    | 1          | 0          |\n",
    "| growth     | 1          | 0          |\n",
    "| includes   | 1          | 0          |\n",
    "| making     | 1          | 0          |\n",
    "| method     | 1          | 1          |\n",
    "| nanotube   | 1          | 1          |\n",
    "| of         | 1          | 0          |\n",
    "| on         | 1          | 0          |\n",
    "| substrate. | 1          | 0          |\n",
    "| surface    | 1          | 0          |"
   ]
  },
  {
   "cell_type": "markdown",
   "metadata": {},
   "source": [
    "# Tokenizing\n",
    "\n",
    "In the example above, we took some short snippets of text from two patents and represented them as vectors (or \"bags of words\"), where elements represent counts of words. Implicitly, then, we split each sentence into its constituent words, or tokens. For anyone who's learned how to read, that's a pretty straightforward task; something we can do quite effortlessly. But it turns out for a computer, splitting a text into its constitutent words can be quite a challenge, at least if you want quality results. In natural language processing, this task is called __tokenization__. \n",
    "\n",
    "Probably the simplest way to tokenize a sentence is to split on white space. "
   ]
  },
  {
   "cell_type": "code",
   "execution_count": 6,
   "metadata": {},
   "outputs": [
    {
     "data": {
      "text/plain": [
       "['I',\n",
       " 'love',\n",
       " 'visiting',\n",
       " 'New',\n",
       " 'York.',\n",
       " \"It's\",\n",
       " 'so',\n",
       " 'much',\n",
       " 'fun---I',\n",
       " 'visit',\n",
       " 'whenever',\n",
       " 'I',\n",
       " 'can!']"
      ]
     },
     "execution_count": 6,
     "metadata": {},
     "output_type": "execute_result"
    }
   ],
   "source": [
    "s = \"I love visiting New York. It's so much fun---I visit whenever I can!\"\n",
    "s.split()"
   ]
  },
  {
   "cell_type": "markdown",
   "metadata": {},
   "source": [
    "Not bad, but there are a few problems. \"New York\" was split into two words, which, although correct in some sense, does not correspond to the fact that in this sentence, \"New\" and \"York\" are functioning as a single unit. In addition, notice that \"York\" still has a period attached at the end, and \"can\" has an exclamation point. Finally, our technique treats \"fun---I\" as a single word.\n",
    "\n",
    "Instead of splitting on white space, we can do a little better by splitting on word boundaries (e.g., punctuation, white space). In Python, we can do that easily using a regular expression."
   ]
  },
  {
   "cell_type": "code",
   "execution_count": 7,
   "metadata": {},
   "outputs": [
    {
     "data": {
      "text/plain": [
       "['',\n",
       " 'I',\n",
       " ' ',\n",
       " 'love',\n",
       " ' ',\n",
       " 'visiting',\n",
       " ' ',\n",
       " 'New',\n",
       " ' ',\n",
       " 'York',\n",
       " '. ',\n",
       " 'It',\n",
       " \"'\",\n",
       " 's',\n",
       " ' ',\n",
       " 'so',\n",
       " ' ',\n",
       " 'much',\n",
       " ' ',\n",
       " 'fun',\n",
       " '---',\n",
       " 'I',\n",
       " ' ',\n",
       " 'visit',\n",
       " ' ',\n",
       " 'whenever',\n",
       " ' ',\n",
       " 'I',\n",
       " ' ',\n",
       " 'can',\n",
       " '!']"
      ]
     },
     "execution_count": 7,
     "metadata": {},
     "output_type": "execute_result"
    }
   ],
   "source": [
    "import re\n",
    "re.split(r\"\\b\", s)"
   ]
  },
  {
   "cell_type": "markdown",
   "metadata": {},
   "source": [
    "We've made some improvement, like separating words from punctuation. But some problems remain, like \"New York\" being split. We've also introduced some __new__ problems, like \"It's\" now being split into \"It\" and \"'s\". It is possible to do a bit better by using some fancier regular expressions. But you're still going to miss tricky cases like \"New York.\" \n",
    "\n",
    "Although we can spend a lot of time worrying about the quality of our tokenization, it reality, even fairly unsophisticated approaches like the ones we've just explored can produce reasonable results, depending on what you're trying to do. Still, it's not hard to get our hands on a more sophisticated tokenizer. \n",
    "\n",
    "We'll be using a package called spaCy for most of this session. Let's see whether its tokenizer improves on our previous attempts."
   ]
  },
  {
   "cell_type": "code",
   "execution_count": 10,
   "metadata": {},
   "outputs": [
    {
     "data": {
      "text/plain": [
       "['I',\n",
       " 'love',\n",
       " 'visiting',\n",
       " 'New',\n",
       " 'York',\n",
       " '.',\n",
       " 'It',\n",
       " \"'s\",\n",
       " 'so',\n",
       " 'much',\n",
       " 'fun',\n",
       " '---',\n",
       " 'I',\n",
       " 'visit',\n",
       " 'whenever',\n",
       " 'I',\n",
       " 'can',\n",
       " '!']"
      ]
     },
     "execution_count": 10,
     "metadata": {},
     "output_type": "execute_result"
    }
   ],
   "source": [
    "# load spacy\n",
    "import spacy\n",
    "\n",
    "# load model\n",
    "nlp = spacy.load(\"en_core_web_lg\")\n",
    "\n",
    "# run nlp on our sentence\n",
    "[token.text for token in nlp(s)]"
   ]
  },
  {
   "cell_type": "markdown",
   "metadata": {},
   "source": [
    "Not really! Still, for most use cases, an industrial strength tokenizer (like spaCy) is going to perform better than our word-boundary approach."
   ]
  },
  {
   "cell_type": "markdown",
   "metadata": {},
   "source": [
    "# Stemming and lemmatization\n",
    "\n",
    "Let's take a look at a vector representation of the tokens from our favorite sentence."
   ]
  },
  {
   "cell_type": "code",
   "execution_count": 11,
   "metadata": {},
   "outputs": [
    {
     "data": {
      "text/plain": [
       "Counter({'I': 3,\n",
       "         'love': 1,\n",
       "         'visiting': 1,\n",
       "         'New': 1,\n",
       "         'York': 1,\n",
       "         '.': 1,\n",
       "         'It': 1,\n",
       "         \"'s\": 1,\n",
       "         'so': 1,\n",
       "         'much': 1,\n",
       "         'fun': 1,\n",
       "         '---': 1,\n",
       "         'visit': 1,\n",
       "         'whenever': 1,\n",
       "         'can': 1,\n",
       "         '!': 1})"
      ]
     },
     "execution_count": 11,
     "metadata": {},
     "output_type": "execute_result"
    }
   ],
   "source": [
    "# load collections\n",
    "import collections\n",
    "\n",
    "# make a vector of counts\n",
    "collections.Counter([token.text for token in nlp(s)])"
   ]
  },
  {
   "cell_type": "markdown",
   "metadata": {},
   "source": [
    "Notice that our vector treats \"visit\" and \"visiting\" as two distinct words. Of course, these morphological differences are gramatically important in written texts, but in our bag of words model, we've done away with grammar. So for our purposes, we might want to treat \"visit\" and \"visiting\" as the same word. We can do so by applying two related techniques, stemming and lemmatization.\n",
    "\n",
    "As the name suggests, stemming entails reducing words to their \"stems\" by removing tenses, plurals, and related morphological information. So, for example, here is an example of various forms of the word \"participate\" taken to their stems.\n",
    "\n",
    "| word          | stem     |\n",
    "|---------------|----------|\n",
    "| participate   | particip |\n",
    "| participating | particip |\n",
    "| participated  | particip |\n",
    "| participation | particip |\n",
    "| participates  | particip |\n",
    "\n",
    "Lemmatization is similar to stemming, but rather groups together common words by their \"canonical\" or \"dictionary\" form. The upshot is that while stems are not necessarily themselves actual words, lemmas are. To round out the example, here are the lemmas for our variations on \"participate.\"\n",
    "\n",
    "| word          | stem          |\n",
    "|---------------|---------------|\n",
    "| participate   | participate   |\n",
    "| participating | participate   |\n",
    "| participated  | participate   |\n",
    "| participation | participation |\n",
    "| participates  | participate   |\n",
    "\n",
    "As you might have guessed, we can get lemmas easily in spaCy. Let's go back to our nanotechnology example, and pull the lemmas for the abstract for patent 5531930. "
   ]
  },
  {
   "cell_type": "code",
   "execution_count": 12,
   "metadata": {},
   "outputs": [
    {
     "data": {
      "text/plain": [
       "[('a', 2),\n",
       " ('-', 2),\n",
       " ('contain', 2),\n",
       " ('compound', 2),\n",
       " ('method', 1),\n",
       " ('and', 1),\n",
       " ('nickel', 1),\n",
       " ('catalyst', 1),\n",
       " ('be', 1),\n",
       " ('disclose', 1),\n",
       " ('for', 1),\n",
       " ('prepare', 1),\n",
       " ('synthesis', 1),\n",
       " ('gas', 1),\n",
       " ('by', 1)]"
      ]
     },
     "execution_count": 12,
     "metadata": {},
     "output_type": "execute_result"
    }
   ],
   "source": [
    "patent_5591238_abstract = abstracts_df.loc[\"5591238\"].patent_abstract\n",
    "patent_5591238_lemmas = [token.lemma_ for token in nlp(patent_5591238_abstract)]\n",
    "patent_5591238_lemmas = collections.Counter(patent_5591238_lemmas)\n",
    "patent_5591238_lemmas.most_common(15)"
   ]
  },
  {
   "cell_type": "markdown",
   "metadata": {},
   "source": [
    "# Zipf's law\n",
    "\n",
    "Although it may not seem like much, we can already start doing some interesting analyses using the tools we've learned so far. Let's try a quick applications to get a better feel for what we can do...and to learn a bit more about our nanotechnology patents. \n",
    "\n",
    "Some words are much more common than others. Words like \"the,\" \"and,\" and \"are\" appear many times per document, while words like \"hurlyburly,\" \"piquant,\" and \"vituperate\" might appear only a few times in an entire corpus (though exactly which words are common or rare depends on the content of the corpus). If we plot a frequency distribution of words, we'll notice that they follow a pattern such that the frequency of a word is roughly inversely proportional to its rank, i.e.,\n",
    "\n",
    "$n \\propto \\frac{1}{r^\\alpha}$,\n",
    "\n",
    "where $n$ is the expected frequency, $r$ is the rank, and $\\alpha$ is a scalining parameter, typically estimated to be close to 1. This phenomenon is known as Zipf's Law. Let's investigate Zipf's Law using some of the tools we've just learned."
   ]
  },
  {
   "cell_type": "code",
   "execution_count": 13,
   "metadata": {},
   "outputs": [],
   "source": [
    "# create a list to hold tokens\n",
    "tokens = []\n",
    "\n",
    "# loop over abstracts and pull tokens\n",
    "for patent_abstract in abstracts_df.patent_abstract:\n",
    "  tokens.extend([token.text for token in nlp(patent_abstract, disable=[\"ner\",\"parser\"])])"
   ]
  },
  {
   "cell_type": "code",
   "execution_count": 14,
   "metadata": {},
   "outputs": [],
   "source": [
    "# make a vector of counts\n",
    "token_counts = collections.Counter(tokens)\n",
    "\n",
    "# make a series\n",
    "tokens_s = pd.Series(token_counts).sort_values(ascending=False)"
   ]
  },
  {
   "cell_type": "markdown",
   "metadata": {},
   "source": [
    "Finally, let's plot the result on a log-log plot. We'll be hoping to see a more or less straight line running from the top left corner of the plot to the bottom right."
   ]
  },
  {
   "cell_type": "code",
   "execution_count": 15,
   "metadata": {},
   "outputs": [
    {
     "data": {
      "text/plain": [
       "<Axes: >"
      ]
     },
     "execution_count": 15,
     "metadata": {},
     "output_type": "execute_result"
    },
    {
     "data": {
      "image/png": "[encoded data removed]",
      "text/plain": [
       "<Figure size 640x480 with 1 Axes>"
      ]
     },
     "metadata": {},
     "output_type": "display_data"
    }
   ],
   "source": [
    "# make a log-log plot\n",
    "tokens_s.plot(loglog=True)"
   ]
  },
  {
   "cell_type": "markdown",
   "metadata": {},
   "source": [
    "# Cleaning out the bag\n",
    "\n",
    "So far, we've gone from natural language text to a bag of words. Our main trick for doing so was to split words into discrete tokens and to throw them into some sort of list or vector. We also learned that we could reduce some noise in our bag of words by collapsing different forms into a common stem or lemma.\n",
    "\n",
    "But out bag of words is still quite messy. Let's take a look at some of the most common things we'll see when we reach inside. "
   ]
  },
  {
   "cell_type": "code",
   "execution_count": 16,
   "metadata": {},
   "outputs": [
    {
     "data": {
      "text/plain": [
       "[('the', 63092),\n",
       " ('a', 48578),\n",
       " ('of', 39551),\n",
       " (',', 36676),\n",
       " ('.', 31810),\n",
       " ('and', 28026),\n",
       " ('to', 19977),\n",
       " ('is', 16836),\n",
       " ('-', 16249),\n",
       " ('layer', 14112),\n",
       " ('in', 13745),\n",
       " ('The', 11660),\n",
       " ('an', 10927),\n",
       " ('for', 9233),\n",
       " (')', 7931)]"
      ]
     },
     "execution_count": 16,
     "metadata": {},
     "output_type": "execute_result"
    }
   ],
   "source": [
    "token_counts.most_common(15)"
   ]
  },
  {
   "cell_type": "markdown",
   "metadata": {},
   "source": [
    "A few things stand out. First, some of the most common tokens in our bag are not words at all, but punctuation. We also have the same word being treated as two different tokens based on capitalization (\"The\" and \"the\"). Typically, before you start doing any serious textual analysis, you'll want to clean up your bag of words a bit. These steps, usually called preprocessing, typically entail things like removing punctuation, changing all tokens to a common case (e.g., all lower case), lemmatization, and so forth. The particular steps you end up taking will depend a lot on the nature of your data. So let's clean up our patent abstracts a little. We'll hold our preprocessed tokens in a new column of our data frame. We'll start by defining a function that will do the preprocessing."
   ]
  },
  {
   "cell_type": "code",
   "execution_count": 53,
   "metadata": {},
   "outputs": [],
   "source": [
    "# set some configuration parameters\n",
    "MIN_TOKEN_LENGTH = 2\n",
    "MAX_TOKEN_LENGTH = 50\n",
    "\n",
    "# define our function\n",
    "def preprocess_patent_abstract(patent_abstract):\n",
    "  \"\"\"preprocess a patent abstract\"\"\"\n",
    "  \n",
    "  # create a list to save the preprocessed tokens\n",
    "  patent_abstract_pp = []\n",
    "    \n",
    "  # tokenize\n",
    "  patent_abstract_nlp = nlp(patent_abstract, disable=[\"ner\",\"parser\"])\n",
    "    \n",
    "  # loop over the tokens and keep only what we want\n",
    "  for token in patent_abstract_nlp:\n",
    "    if (not token.is_stop \n",
    "        and not token.is_punct \n",
    "        and not token.is_digit\n",
    "        and not token.is_space \n",
    "        and len(token) > MIN_TOKEN_LENGTH\n",
    "        and len(token) < MAX_TOKEN_LENGTH):\n",
    "        patent_abstract_pp.append(token.lemma_.lower())    \n",
    "    \n",
    "  # return our cleaned up tokens\n",
    "  return patent_abstract_pp "
   ]
  },
  {
   "cell_type": "code",
   "execution_count": 54,
   "metadata": {},
   "outputs": [
    {
     "data": {
      "text/html": [
       "<div>\n",
       "<style scoped>\n",
       "    .dataframe tbody tr th:only-of-type {\n",
       "        vertical-align: middle;\n",
       "    }\n",
       "\n",
       "    .dataframe tbody tr th {\n",
       "        vertical-align: top;\n",
       "    }\n",
       "\n",
       "    .dataframe thead th {\n",
       "        text-align: right;\n",
       "    }\n",
       "</style>\n",
       "<table border=\"1\" class=\"dataframe\">\n",
       "  <thead>\n",
       "    <tr style=\"text-align: right;\">\n",
       "      <th></th>\n",
       "      <th>patent_date</th>\n",
       "      <th>patent_abstract</th>\n",
       "      <th>patent_abstract_pp</th>\n",
       "      <th>year</th>\n",
       "    </tr>\n",
       "    <tr>\n",
       "      <th>patent_number</th>\n",
       "      <th></th>\n",
       "      <th></th>\n",
       "      <th></th>\n",
       "      <th></th>\n",
       "    </tr>\n",
       "  </thead>\n",
       "  <tbody>\n",
       "    <tr>\n",
       "      <th>5591238</th>\n",
       "      <td>1997-01-07</td>\n",
       "      <td>A method and nickel-containing catalyst are di...</td>\n",
       "      <td>[method, nickel, contain, catalyst, disclose, ...</td>\n",
       "      <td>1997</td>\n",
       "    </tr>\n",
       "    <tr>\n",
       "      <th>5591487</th>\n",
       "      <td>1997-01-07</td>\n",
       "      <td>An information recording layer on a substrate ...</td>\n",
       "      <td>[information, recording, layer, substrate, pro...</td>\n",
       "      <td>1997</td>\n",
       "    </tr>\n",
       "    <tr>\n",
       "      <th>5591532</th>\n",
       "      <td>1997-01-07</td>\n",
       "      <td>A single layer film is deposited onto a substr...</td>\n",
       "      <td>[single, layer, film, deposit, substrate, room...</td>\n",
       "      <td>1997</td>\n",
       "    </tr>\n",
       "    <tr>\n",
       "      <th>5591690</th>\n",
       "      <td>1997-01-07</td>\n",
       "      <td>The present invention relates to a gettering m...</td>\n",
       "      <td>[present, invention, relate, gettere, material...</td>\n",
       "      <td>1997</td>\n",
       "    </tr>\n",
       "    <tr>\n",
       "      <th>5591710</th>\n",
       "      <td>1997-01-07</td>\n",
       "      <td>Compositions and processes to alleviate oxygen...</td>\n",
       "      <td>[composition, process, alleviate, oxygen, toxi...</td>\n",
       "      <td>1997</td>\n",
       "    </tr>\n",
       "  </tbody>\n",
       "</table>\n",
       "</div>"
      ],
      "text/plain": [
       "              patent_date                                    patent_abstract  \\\n",
       "patent_number                                                                  \n",
       "5591238        1997-01-07  A method and nickel-containing catalyst are di...   \n",
       "5591487        1997-01-07  An information recording layer on a substrate ...   \n",
       "5591532        1997-01-07  A single layer film is deposited onto a substr...   \n",
       "5591690        1997-01-07  The present invention relates to a gettering m...   \n",
       "5591710        1997-01-07  Compositions and processes to alleviate oxygen...   \n",
       "\n",
       "                                              patent_abstract_pp  year  \n",
       "patent_number                                                           \n",
       "5591238        [method, nickel, contain, catalyst, disclose, ...  1997  \n",
       "5591487        [information, recording, layer, substrate, pro...  1997  \n",
       "5591532        [single, layer, film, deposit, substrate, room...  1997  \n",
       "5591690        [present, invention, relate, gettere, material...  1997  \n",
       "5591710        [composition, process, alleviate, oxygen, toxi...  1997  "
      ]
     },
     "execution_count": 54,
     "metadata": {},
     "output_type": "execute_result"
    }
   ],
   "source": [
    "abstracts_df[\"patent_abstract_pp\"] = abstracts_df.patent_abstract.apply(preprocess_patent_abstract)\n",
    "abstracts_df.head()"
   ]
  },
  {
   "cell_type": "markdown",
   "metadata": {},
   "source": [
    "Feels good to be clean!"
   ]
  },
  {
   "cell_type": "markdown",
   "metadata": {},
   "source": [
    "# Document similarity\n",
    "\n",
    "When we're working with textual data, one of the most common things we'll want to do is make comparisons among documents based on how similar or different they are. The canonical example of this comes from information retrieval, where we might be given a string (e.g., as a query from a user of a search engine) and we want to find the set of documents that are most similar. Returning to our running example for this session, we might be interested in knowing how similar or different a particular nanotechnology patent is from other nanotechnology patents, under the idea that more distinctive patents might represent more radical innovations.\n",
    "\n",
    "We already have many of the tools we need to start comparing documents. As I noted a while back, the beauty of representing our documents as vectors is that we can treat them like mathematical objects. Rather than inventing new techniques for comparing documents based on their textual similarity, we can use standard distance metrics, of which there are many. In natural language processing, the most widely used is cosine distance (similarity), which characterizes distance between vectors based on their angle of separation in a vector space. Cosine distance has several nice properties. When the vector elements are positive integers (which is what we'll have for our document vectors), the measure ranges from 0 to 1, which makes interpretation easy. In addition, unlike other metrics (e.g., Euclidean distance), cosine distance is not sensitive to document size. Let's take a quick look at a few examples."
   ]
  },
  {
   "cell_type": "code",
   "execution_count": 55,
   "metadata": {},
   "outputs": [
    {
     "name": "stdout",
     "output_type": "stream",
     "text": [
      "doc1 vs. doc2 euclidean: 14.832396974191326\n",
      "doc1 vs. doc2 cosine: 0\n",
      "doc3 vs. doc4 euclidean: 12.806248474865697\n",
      "doc3 vs. doc4 cosine: 0.495475020890487\n"
     ]
    }
   ],
   "source": [
    "# load scipy distance library\n",
    "import scipy.spatial.distance\n",
    "\n",
    "# create some dummy documents\n",
    "doc1 = [2,4,6,8,10]\n",
    "doc2 = [4,8,12,16,20]\n",
    "doc3 = [2,4,6,8,10]\n",
    "doc4 = [2,4,6,0,0]\n",
    "\n",
    "# doc1, doc2\n",
    "print(\"doc1 vs. doc2 euclidean: {}\".format(scipy.spatial.distance.euclidean(doc1, doc2)))\n",
    "print(\"doc1 vs. doc2 cosine: {}\".format(scipy.spatial.distance.cosine(doc1, doc2)))\n",
    "\n",
    "# doc3, doc4\n",
    "print(\"doc3 vs. doc4 euclidean: {}\".format(scipy.spatial.distance.euclidean(doc3, doc4)))\n",
    "print(\"doc3 vs. doc4 cosine: {}\".format(scipy.spatial.distance.cosine(doc3, doc4)))"
   ]
  },
  {
   "cell_type": "markdown",
   "metadata": {},
   "source": [
    "Now, let's compute the cosine similarity for some real abstracts. First, we'll need to get a vector representation for each abstract we want to compare. We can do this using the methods we learned above. The trick here is that we need to make sure the two vectors we want to compare all contain the same elements. That means, for example, that if the word \"nanotube\" appears in abstract A but not abstract B, we still need to represent \"nanotube\" in vector B, but with a count of 0. In addition, we need to make sure that the vectors are aligned by dimension, such that the words are in the same order. Here is a little function that will take two lists of tokens and compute their cosine similarity."
   ]
  },
  {
   "cell_type": "code",
   "execution_count": 56,
   "metadata": {},
   "outputs": [],
   "source": [
    "# define our function\n",
    "def cosine_similarity_from_token_lists(tl1, tl2):\n",
    "  \"\"\"return cosine similarity from two token lists.\"\"\"\n",
    "  \n",
    "  # make sure we have data in both lists\n",
    "  if len(tl1) < 1 or len(tl2) < 1:\n",
    "    return None\n",
    "\n",
    "  # create a list with the common tokens\n",
    "  common_tokens = list(set(tl1 + tl2))\n",
    "\n",
    "  # create lists to hold counts for tl1 and tl2\n",
    "  tl1_counts = []\n",
    "  tl2_counts = []\n",
    "\n",
    "  # loop over common_tokens and fill lists of counts\n",
    "  for common_token in common_tokens:\n",
    "    \n",
    "    # add count of common token to tl1_counts\n",
    "    tl1_counts.append(tl1.count(common_token))\n",
    "    \n",
    "    # add count of common token to tl1_counts\n",
    "    tl2_counts.append(tl2.count(common_token))\n",
    "  \n",
    "  # compute cosine similarity\n",
    "  cosine_similarity = 1.0 - scipy.spatial.distance.cosine(tl1_counts, tl2_counts)  \n",
    "  \n",
    "  # return the result\n",
    "  return cosine_similarity"
   ]
  },
  {
   "cell_type": "markdown",
   "metadata": {},
   "source": [
    "What's nice about defining a function is that we can write the code once and use it over and over again. And, if we want to make a change later on, we just need to edit in one place. Now that we've got our function, let's run some comparisons. The code below will select two random patents and give their textual similarity."
   ]
  },
  {
   "cell_type": "code",
   "execution_count": 57,
   "metadata": {},
   "outputs": [
    {
     "data": {
      "text/plain": [
       "0.045688185634673584"
      ]
     },
     "execution_count": 57,
     "metadata": {},
     "output_type": "execute_result"
    }
   ],
   "source": [
    "# randomly select a first abstract\n",
    "patent_abstract_1 = abstracts_df.sample(1).iloc[0].patent_abstract_pp\n",
    "\n",
    "# randomly select a second abstract\n",
    "patent_abstract_2 = abstracts_df.sample(1).iloc[0].patent_abstract_pp\n",
    "\n",
    "# get cosine similarity\n",
    "cosine_similarity_from_token_lists(patent_abstract_1, patent_abstract_2)"
   ]
  },
  {
   "cell_type": "markdown",
   "metadata": {},
   "source": [
    "As a final example, let's compare the similarity of nanotechnology patents across years. Perhaps that will give us a sense for technological change in the area."
   ]
  },
  {
   "cell_type": "code",
   "execution_count": 58,
   "metadata": {},
   "outputs": [
    {
     "name": "stdout",
     "output_type": "stream",
     "text": [
      "finished comparisons for 1997!\n",
      "finished comparisons for 1998!\n",
      "finished comparisons for 1999!\n",
      "finished comparisons for 2000!\n",
      "finished comparisons for 2001!\n",
      "finished comparisons for 2002!\n",
      "finished comparisons for 2003!\n"
     ]
    }
   ],
   "source": [
    "# create a variable to hold years\n",
    "abstracts_df[\"year\"] = pd.DatetimeIndex(abstracts_df.patent_date).year\n",
    "\n",
    "# pull a random sample to speed up computation\n",
    "abstracts_df_sample = abstracts_df.sample(2500)\n",
    "\n",
    "# create a list to save the results\n",
    "results = []\n",
    "\n",
    "# loop over unique years\n",
    "for year_i in abstracts_df[\"year\"].unique():\n",
    "  \n",
    "  # save the individual comparisons in a list\n",
    "  results_year = []\n",
    "\n",
    "  # pull the tokens for year_i\n",
    "  year_i_tokens = [token for document in abstracts_df_sample.loc[abstracts_df[\"year\"] == year_i].patent_abstract_pp \n",
    "                         for token in document]\n",
    "\n",
    "  # pull the tokens for year_j\n",
    "  for year_j in abstracts_df[\"year\"].unique():\n",
    "   \n",
    "    # pull the tokens for year_j\n",
    "    year_j_tokens = [token for document in abstracts_df_sample.loc[abstracts_df[\"year\"] == year_j].patent_abstract_pp \n",
    "                           for token in document]\n",
    "    \n",
    "    # append our comparison\n",
    "    results_year.append(cosine_similarity_from_token_lists(year_i_tokens, year_j_tokens))\n",
    "  \n",
    "  # save the results from the year to the overall list\n",
    "  print(\"finished comparisons for {}!\".format(year_i))\n",
    "  results.append(results_year)"
   ]
  },
  {
   "cell_type": "markdown",
   "metadata": {},
   "source": [
    "Now let's see what the results look like."
   ]
  },
  {
   "cell_type": "code",
   "execution_count": 59,
   "metadata": {},
   "outputs": [
    {
     "data": {
      "text/plain": [
       "<matplotlib.image.AxesImage at 0x7f6c207ee850>"
      ]
     },
     "execution_count": 59,
     "metadata": {},
     "output_type": "execute_result"
    },
    {
     "data": {
      "image/png": "[encoded data removed]",
      "text/plain": [
       "<Figure size 480x480 with 1 Axes>"
      ]
     },
     "metadata": {},
     "output_type": "display_data"
    }
   ],
   "source": [
    "# load a few libraries\n",
    "import numpy as np\n",
    "import matplotlib.pyplot as plt\n",
    "\n",
    "# convert our result to a numpy array\n",
    "results = np.array(results)\n",
    "\n",
    "# plot using matplotlib\n",
    "plt.matshow(results)"
   ]
  },
  {
   "cell_type": "markdown",
   "metadata": {},
   "source": [
    "# Tf-Idf weighting"
   ]
  },
  {
   "cell_type": "markdown",
   "metadata": {},
   "source": [
    "In our previous example, we looked at the textual similarity of nanotechnology patents across years. Looking at the heat map, we see higher similarity among adjacent years and lower similarity among years that are more distant. At the same time, if you look at the actual similarities, you'll notice they're all quite high (e.g., in the 0.8s and 0.9s). There may be good substantive reasons for seeing such high similarities (e.g., maybe nanotechnology doesn't change that much from year to year, which certainly seems plausible). At the same time, some features of how we've defined our bag of words may be contributing to the high similarities we observe. \n",
    "\n",
    "In particular, consider that there are some terms that are likely to appear almost all nanotechnology patents (and with high frequency), e.g., \"nanotechnology,\" \"carbon,\" \"method,\" \"device.\" Because these terms are so common, they don't really tell us much about how similar or different two patents are, or how similar or different patents are across years. \n",
    "\n",
    "There are several techniques to deal with these challenges in natural language processing. One that we've already implemented is the removal of stop words (e.g., \"the\", \"is\", \"and\"). Another technique (often used on conjunction with stop word removal) is term weighting. Specifically, we would like to give some terms greater weight than others. \n",
    "\n",
    "One of the most common metrics for term weighting is called term frequency-inverse document frequency weighting, or TF-IDF for short. The idea is that we want to weight terms more highly when they appear more frequently within a particular document and less highly when they appear more commonly across documents.\n",
    "\n",
    "The code below will run through the steps of TF-IDF weighting. Our first step is to get document frequencies for each token. We can make use of some of our previous work here, specifically our cleaned set of tokens, held in `abstracts_df[\"patent_abstract_pp\"]`."
   ]
  },
  {
   "cell_type": "code",
   "execution_count": 60,
   "metadata": {},
   "outputs": [
    {
     "data": {
      "text/plain": [
       "[('form', 3181),\n",
       " ('include', 3116),\n",
       " ('provide', 2876),\n",
       " ('method', 2853),\n",
       " ('layer', 2822),\n",
       " ('have', 2780),\n",
       " ('comprise', 2291),\n",
       " ('surface', 2137),\n",
       " ('invention', 2003),\n",
       " ('device', 1884),\n",
       " ('substrate', 1874),\n",
       " ('material', 1860),\n",
       " ('second', 1585),\n",
       " ('structure', 1569),\n",
       " ('high', 1532)]"
      ]
     },
     "execution_count": 60,
     "metadata": {},
     "output_type": "execute_result"
    }
   ],
   "source": [
    "# create a dictionary to hold our frequencies\n",
    "token_document_freqs = collections.Counter()\n",
    "\n",
    "# loop over abstract tokens and get document frequencies\n",
    "for patent_abstract_tokens in abstracts_df[\"patent_abstract_pp\"]:\n",
    "  token_document_freqs.update(set(patent_abstract_tokens))\n",
    "\n",
    "# check out our list of document frequencies\n",
    "token_document_freqs.most_common(15)"
   ]
  },
  {
   "cell_type": "markdown",
   "metadata": {},
   "source": [
    "Right now, we have document frequencies. Typically, though, we will want *inverse* document frequencies. We'll also usually want to log transform our weights. So let's do a last little bit of processing."
   ]
  },
  {
   "cell_type": "code",
   "execution_count": 61,
   "metadata": {},
   "outputs": [
    {
     "data": {
      "text/plain": [
       "gas             4.346485\n",
       "method          2.070532\n",
       "catalyst        5.247534\n",
       "prepare         4.126761\n",
       "reforming       8.928046\n",
       "                 ...    \n",
       "ohgr;cm        10.026658\n",
       "evarnescent    10.026658\n",
       "stochastic     10.026658\n",
       "arrayed        10.026658\n",
       "obscure        10.026658\n",
       "Length: 15421, dtype: float64"
      ]
     },
     "execution_count": 61,
     "metadata": {},
     "output_type": "execute_result"
    }
   ],
   "source": [
    "# create a dictionary to hold our inverse frequencies\n",
    "token_inverse_document_freqs = {}\n",
    "\n",
    "# loop over tokens to get inverse document frequencies\n",
    "for token, document_freq in token_document_freqs.items():\n",
    "  token_inverse_document_freqs[token] = np.log(len(abstracts_df)/document_freq) + 1\n",
    "\n",
    "# check out some document frequencies\n",
    "pd.Series(token_inverse_document_freqs)"
   ]
  },
  {
   "cell_type": "markdown",
   "metadata": {},
   "source": [
    "We've already written a function to compute cosine similarity, but with the way we've currently written the function, we cannot make use of tf-idf weights. Let's make some adjustments to allow us to incorporate weights for our terms."
   ]
  },
  {
   "cell_type": "code",
   "execution_count": 62,
   "metadata": {},
   "outputs": [],
   "source": [
    "# define our function\n",
    "def cosine_similarity_tfidf_weighted_from_token_lists(tl1, tl2, token_inverse_document_freqs=None):\n",
    "  \"\"\"return tf-idf weighted cosine similarity from two token lists.\"\"\"\n",
    "  \n",
    "  # make sure we have data in both lists\n",
    "  if len(tl1) < 1 or len(tl2) < 1:\n",
    "    return None\n",
    "\n",
    "  # create a list with the common tokens\n",
    "  common_tokens = list(set(tl1 + tl2))\n",
    "\n",
    "  # create lists to hold counts for tl1 and tl2\n",
    "  tl1_counts = []\n",
    "  tl2_counts = []\n",
    "\n",
    "  # loop over common_tokens and fill lists of counts\n",
    "  for common_token in common_tokens:\n",
    "    \n",
    "    # add count of common token to tl1_counts\n",
    "    if token_inverse_document_freqs is not None:\n",
    "      tl1_counts.append(tl1.count(common_token) * token_inverse_document_freqs[common_token])\n",
    "    else:\n",
    "      tl1_counts.append(tl1.count(common_token))\n",
    "    \n",
    "    # add count of common token to tl1_counts\n",
    "    if token_inverse_document_freqs is not None:\n",
    "      tl2_counts.append(tl2.count(common_token) * token_inverse_document_freqs[common_token])\n",
    "    else:\n",
    "      tl2_counts.append(tl2.count(common_token))\n",
    "  \n",
    "  # compute cosine similarity\n",
    "  cosine_similarity = 1.0 - scipy.spatial.distance.cosine(tl1_counts, tl2_counts)  \n",
    "  \n",
    "  # return the result\n",
    "  return cosine_similarity"
   ]
  },
  {
   "cell_type": "markdown",
   "metadata": {},
   "source": [
    "Let's give it a whirl."
   ]
  },
  {
   "cell_type": "code",
   "execution_count": 63,
   "metadata": {},
   "outputs": [
    {
     "data": {
      "text/plain": [
       "0.05685042043129396"
      ]
     },
     "execution_count": 63,
     "metadata": {},
     "output_type": "execute_result"
    }
   ],
   "source": [
    "# randomly select a first abstract\n",
    "patent_abstract_1 = abstracts_df.sample(1).iloc[0].patent_abstract_pp\n",
    "\n",
    "# randomly select a second abstract\n",
    "patent_abstract_2 = abstracts_df.sample(1).iloc[0].patent_abstract_pp\n",
    "\n",
    "# get cosine similarity\n",
    "cosine_similarity_tfidf_weighted_from_token_lists(patent_abstract_1, \n",
    "                                                  patent_abstract_2,\n",
    "                                                  token_inverse_document_freqs=token_inverse_document_freqs)"
   ]
  },
  {
   "cell_type": "markdown",
   "metadata": {},
   "source": [
    "# Exercises"
   ]
  },
  {
   "cell_type": "markdown",
   "metadata": {},
   "source": [
    "  * Update code used to generate the heat map with similarity among years to use tf-idf weights. How do the results change from the unweighted map?\n",
    "  * Write some code that will compute the average similarity between a focal patent and another set of patens. Can you identify any unique features of patents with high versus low similarity to others in their fields?"
   ]
  }
 ],
 "metadata": {
  "kernelspec": {
   "display_name": "Python 3",
   "language": "python",
   "name": "python3"
  },
  "language_info": {
   "codemirror_mode": {
    "name": "ipython",
    "version": 3
   },
   "file_extension": ".py",
   "mimetype": "text/x-python",
   "name": "python",
   "nbconvert_exporter": "python",
   "pygments_lexer": "ipython3",
   "version": "3.11.8"
  }
 },
 "nbformat": 4,
 "nbformat_minor": 4
}
