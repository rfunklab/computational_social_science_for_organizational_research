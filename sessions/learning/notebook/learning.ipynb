{
 "cells": [
  {
   "cell_type": "markdown",
   "metadata": {},
   "source": [
    "# Introduction to machine learning\n",
    "\n",
    " * Supervised learning\n",
    "   * scikit-learn\n",
    "   * Patent assignee forms\n",
    "   * Features\n",
    "   * Training and test data\n",
    "   * k Nearest neighbors\n",
    "   * Naive Bayes\n",
    " * Unsupervised learning\n",
    "   * Political polarization\n",
    "   * k Means\n",
    "   * Hierarchical clustering\n",
    " * Further reading\n",
    " * Exercises\n",
    "\n",
    "> MONSIEUR JOURDAIN: Oh, really? So when I say: Nicole bring me my slippers and fetch my nightcap,” is that prose?\n",
    "> \n",
    "> PHILOSOPHY MASTER: Most clearly.\n",
    "> \n",
    "> MONSIEUR JOURDAIN: Well, what do you know about that! These forty years now I’ve been speaking in prose without knowing it!\n",
    "> \n",
    "> —Molière, The Bourgeois Gentleman, 1670\n",
    "\n",
    "It's hard to think of an area of scientifc research in recent memory that has received more attention (both public and academic) than machine learning. Although the basic principles of machine learning have been around for a long time, a confluence of several factors, including advances in computing power, data availability (necessary for training high-performing models), algorithms, and the commercial potential of the technology have led to significant excitement within the field (Jordan and Mitchell, 2015). \n",
    "\n",
    "The primary beneficiary of machine learning has arguably been industry, with uptake being slower in science, although that's starting to change. As I hope you'll see by the end of this session, machine learning has potential applications for all phases of the research process, from data collection and cleaning to modeling and analysis.\n",
    "\n",
    "Machine learning is not a mainstay of the social science PhD curriculum, which means that social scientists who are curious about machine learning typically need to resort to self study. Given just how vast machine learning has become, together with the fairly jargon-heavy nature of the field, its easy for people to feel overwhelmed before they even really get started. As we know from all sorts of research (Cohen and Levinthal, 1990), learning about a new field is really tricky when we're starting from scratch, without some prior knowledge on which to build.\n",
    "\n",
    "What if I told you, though, that every time you run a regression model you're doing machine learning? It's true! Just like Monsieur Jourdain was speaking prose for forty years without knowing it, you already likely have some familiarity with a major area of machine learning.\n",
    "\n",
    "This notebook will be primarily organized around the two main branches of machine learning, supervised and unsupervised learning (the former of which includes regression). Without further ado, then, let's get started!"
   ]
  },
  {
   "cell_type": "markdown",
   "metadata": {},
   "source": [
    "# scikit-learn\n",
    "\n",
    "As a heads up, throughout this session, we'll be making heavy use of the Python package [scikit-learn](https://scikit-learn.org), which is probably the most popular machine learning library for Python. You don't need to know much more than that at this point. "
   ]
  },
  {
   "cell_type": "markdown",
   "metadata": {},
   "source": [
    "# Supervised learning\n",
    "\n",
    "There are two general approaches to machine learning, supervised and unsupervised. Supervised learning involves building models for prediction or labeling tasks. For example, we might want to build a model to label whether a product review is positive or negative, whether a consumer would like a product or not, or whether an image includes a picture of a cat. The name \"supervised\" comes from the fact that when we build these models, we use training data, i.e., a set of examples where the outcome or label is known. We might build a model by collecting 10,000 images, creating a dummy varaible that identifies those with cats, and then training our model to identify which features (or variables) are most strongly predictive of the presence of a cat. So we are \"supervising\" in the sense that we are specifying particular relationships we want the model to learn (between a dependent and independent variables, or labels and features, from our training data).\n",
    "\n",
    "Within supervised learning, we can distinguish models depending on whether the outcome of interest is categorical or continuous. The former, which we refer to as classification, would include cases where we want to develop a model that will determine, based on a set of observed features or variables, whether an observation is a member of a particular class (e.g., whether a review is positive based on the words it contains). The latter, which we refer to as regression, would include cases where we want to develop a model that will determine, again based on a set of observed features or variables, the predicted value for an observation on a continuous measure (e.g., the mpg for a car based on its weight, age, make, model, and other factors)."
   ]
  },
  {
   "cell_type": "markdown",
   "metadata": {},
   "source": [
    "## Patent assignee forms\n",
    "\n",
    "To help ground our exploration of supervised machine learning, let's consider a concrete example, once again using data from the U.S. Patent and Trademark Office. Patents are a form of intellectual property. When a patent is granted by the USPTO, the property rights are given to an assignee, which is often different from the inventor(s) and most typically consists of a legal organization (e.g., a business). Historically, most patents have been granted to business firms, but over the past few decades, a much broader range of organizations, from universities and nonprofits to government labs, have been seeking intellectual property protection for their discoveries. \n",
    "\n",
    "Suppose we wanted to gain some sense for how the representation of different kinds or forms of organizatons (e.g., universities, firms) among patent assignees has changed over time. It turns out that doing so is a bit of a challenge for a few reasons. First, the USPTO only began collecting data on assignee form after 2002, and the categories recorded are somewhat broad and do not necessarily correspond to those that might be most interesting from a theoretical standpoint (e.g., the categories mainly distinguish between US and foreign individuals, corporations, and governments). Second, the only data that the USPTO reliably reports on assignees over time is assignee name and location, which makes it difficult to link assignees to external databases that might give us insight on organizational forms. Moreover, even if we could easily link to external databases (e.g., Compustat), I am unaware of anything that would cover the whole range of diverse organizational forms represented among assignees (e.g., large and small corporations, universities, governments, research institutes). \n",
    "\n",
    "One option for us might be to leverage the fact that different kinds of organizational forms tend to exhibit different kinds of naming patterns. Most universities, for example, include the word \"university\" in their name, but not the word \"corporation.\" The names of consulting and professional service firms tend to include words like \"associates,\" \"services,\" \"solutions,\" and \"consulting.\" If we went through the whole list of USPTO assignees, we might then be able to categorize them into broad organizational forms with some reasonable level of accuracy. \n",
    "\n",
    "The challenge, though, is that there are hundreds of thousands of organizations that have been assigned a US patent, which prohibits us from doing this coding manually. Moreover, even though we might be able to come up with a mechanical set of rules (e.g., if the name contains \"university\" code as \"university\"), we would likely only be able to develop a handful of rules, and those that we would develop would not likely apply to all situations. For example, our \"university\" rule would code the name \"University Park Semiconductor Corporation\" incorrectly as a university.\n",
    "\n",
    "This is where we can get some help from supervised learning methods.\n",
    "\n",
    "But before we get started, let's do a little preparation. Our first step will be to download assignee data from the USPTO Patents View website. "
   ]
  },
  {
   "cell_type": "code",
   "execution_count": 2,
   "metadata": {},
   "outputs": [],
   "source": [
    "# load packages\n",
    "import pathlib\n",
    "import urllib\n",
    "import pandas as pd\n",
    "\n",
    "# make a directory to store the data\n",
    "pathlib.Path(\"data\").mkdir(parents=True, exist_ok=True)\n",
    "\n",
    "# download the data\n",
    "patentsview_assignee_file_url = \"http://s3.amazonaws.com/data.patentsview.org/20191231/download/assignee.tsv.zip\"\n",
    "patentsview_assignee_file_path = \"data/assignee.tsv.zip\"\n",
    "filename, headers = urllib.request.urlretrieve(patentsview_assignee_file_url, patentsview_assignee_file_path)"
   ]
  },
  {
   "cell_type": "markdown",
   "metadata": {},
   "source": [
    "Next, let's read the data into a pandas dataframe and do a little clean up."
   ]
  },
  {
   "cell_type": "code",
   "execution_count": 3,
   "metadata": {},
   "outputs": [
    {
     "data": {
      "text/html": [
       "<div>\n",
       "<style scoped>\n",
       "    .dataframe tbody tr th:only-of-type {\n",
       "        vertical-align: middle;\n",
       "    }\n",
       "\n",
       "    .dataframe tbody tr th {\n",
       "        vertical-align: top;\n",
       "    }\n",
       "\n",
       "    .dataframe thead th {\n",
       "        text-align: right;\n",
       "    }\n",
       "</style>\n",
       "<table border=\"1\" class=\"dataframe\">\n",
       "  <thead>\n",
       "    <tr style=\"text-align: right;\">\n",
       "      <th></th>\n",
       "      <th>id</th>\n",
       "      <th>organization</th>\n",
       "    </tr>\n",
       "  </thead>\n",
       "  <tbody>\n",
       "    <tr>\n",
       "      <th>53008</th>\n",
       "      <td>org_6R3BcU4EOukMvhMb9CXq</td>\n",
       "      <td>Tonen Sekiyukagku Kabushiki Kaisha</td>\n",
       "    </tr>\n",
       "    <tr>\n",
       "      <th>174229</th>\n",
       "      <td>org_h05oPXQ4hM8b8i1TpVxM</td>\n",
       "      <td>Barco Automation Naamloze and Vennootschap</td>\n",
       "    </tr>\n",
       "    <tr>\n",
       "      <th>111778</th>\n",
       "      <td>org_CLvn05ItaQ0jCyi8zcVn</td>\n",
       "      <td>Tim Blakeney's Practical Solutions LLC</td>\n",
       "    </tr>\n",
       "    <tr>\n",
       "      <th>9384</th>\n",
       "      <td>org_0MRMNWjXfHSQ0MvrHyQ6</td>\n",
       "      <td>Strategic Technologies International Inc.</td>\n",
       "    </tr>\n",
       "    <tr>\n",
       "      <th>111540</th>\n",
       "      <td>org_Cldq5xEZFrApqP8KYLbL</td>\n",
       "      <td>BIO AG RESOURCES, INC.</td>\n",
       "    </tr>\n",
       "  </tbody>\n",
       "</table>\n",
       "</div>"
      ],
      "text/plain": [
       "                              id                                organization\n",
       "53008   org_6R3BcU4EOukMvhMb9CXq          Tonen Sekiyukagku Kabushiki Kaisha\n",
       "174229  org_h05oPXQ4hM8b8i1TpVxM  Barco Automation Naamloze and Vennootschap\n",
       "111778  org_CLvn05ItaQ0jCyi8zcVn      Tim Blakeney's Practical Solutions LLC\n",
       "9384    org_0MRMNWjXfHSQ0MvrHyQ6   Strategic Technologies International Inc.\n",
       "111540  org_Cldq5xEZFrApqP8KYLbL                      BIO AG RESOURCES, INC."
      ]
     },
     "execution_count": 3,
     "metadata": {},
     "output_type": "execute_result"
    }
   ],
   "source": [
    "# read file into data frame\n",
    "assignee_df = pd.read_csv(patentsview_assignee_file_path, sep=\"\\t\", low_memory=False)\n",
    "assignee_df = assignee_df.sample(frac=1, random_state=1011)\n",
    "\n",
    "# drop non-organizations\n",
    "assignee_df = assignee_df.drop(columns=[\"type\", \"name_first\", \"name_last\"])\n",
    "assignee_df = assignee_df.dropna()\n",
    "\n",
    "# drop some cases with bad encoding (on patentsview end)\n",
    "assignee_df = assignee_df[assignee_df[\"organization\"].apply(lambda x: len(x) == len(x.encode()))]\n",
    "\n",
    "# check out the data\n",
    "assignee_df.head()"
   ]
  },
  {
   "cell_type": "markdown",
   "metadata": {},
   "source": [
    "At this point, we need some training data. Recall that training data are authoritative examples that we'll use to help our model learn to make predictions (e.g., here, between features of assignee names and different categories of organizational forms). For our purposes, I am going to go ahead and pull a random sample of assignee names, and the subsequently code their form by hand, using a combination of prior personal knowledge (I've spent a lot of time looking at patent assignees) and internet searches."
   ]
  },
  {
   "cell_type": "code",
   "execution_count": 4,
   "metadata": {},
   "outputs": [],
   "source": [
    "# create a directory for hand coding training data\n",
    "pathlib.Path(\"hand_cleaning\").mkdir(parents=True, exist_ok=True)\n",
    "\n",
    "# add a column for hand coded assignee form\n",
    "assignee_df[\"hand_coded_assignee_form\"] = None\n",
    "\n",
    "# pull a random sample of data to hand code and save as a .csv\n",
    "hand_coded_assignee_form_file_raw_path = \"hand_cleaning/hand_coded_assignee_form.csv\"\n",
    "assignee_df[[\"organization\",\"hand_coded_assignee_form\"]].sample(n=2000, random_state=1011).to_csv(hand_coded_assignee_form_file_raw_path, index=False)"
   ]
  },
  {
   "cell_type": "markdown",
   "metadata": {},
   "source": [
    "Okay, that didn't take quite as long as expected. I ended up coding assignees into several categories, including \"financial\", \"university\", \"government\", \"firm\", \"professional\", \"nonprofit\", and \"other\". These may be a bit more granular than we can justify given that the only features we have are based on assignee names, and if you were doing this for research purposes you'd likely want to be more careful than I was with the coding. But for our purposes, let's run with it. Our last step then is to load my hand-coded data into a dataframe."
   ]
  },
  {
   "cell_type": "code",
   "execution_count": 5,
   "metadata": {},
   "outputs": [
    {
     "data": {
      "text/html": [
       "<div>\n",
       "<style scoped>\n",
       "    .dataframe tbody tr th:only-of-type {\n",
       "        vertical-align: middle;\n",
       "    }\n",
       "\n",
       "    .dataframe tbody tr th {\n",
       "        vertical-align: top;\n",
       "    }\n",
       "\n",
       "    .dataframe thead th {\n",
       "        text-align: right;\n",
       "    }\n",
       "</style>\n",
       "<table border=\"1\" class=\"dataframe\">\n",
       "  <thead>\n",
       "    <tr style=\"text-align: right;\">\n",
       "      <th></th>\n",
       "      <th>organization</th>\n",
       "      <th>hand_coded_assignee_form</th>\n",
       "    </tr>\n",
       "  </thead>\n",
       "  <tbody>\n",
       "    <tr>\n",
       "      <th>0</th>\n",
       "      <td>Synbank, Inc.</td>\n",
       "      <td>FINANCIAL</td>\n",
       "    </tr>\n",
       "    <tr>\n",
       "      <th>1</th>\n",
       "      <td>HSBC Bank USA</td>\n",
       "      <td>FINANCIAL</td>\n",
       "    </tr>\n",
       "    <tr>\n",
       "      <th>2</th>\n",
       "      <td>DWBH Ventures Ltd.</td>\n",
       "      <td>FINANCIAL</td>\n",
       "    </tr>\n",
       "    <tr>\n",
       "      <th>3</th>\n",
       "      <td>MINERVA PATENTS S.A.</td>\n",
       "      <td>FINANCIAL</td>\n",
       "    </tr>\n",
       "    <tr>\n",
       "      <th>4</th>\n",
       "      <td>AZA HOLDING PTE. LTD.</td>\n",
       "      <td>FINANCIAL</td>\n",
       "    </tr>\n",
       "  </tbody>\n",
       "</table>\n",
       "</div>"
      ],
      "text/plain": [
       "            organization hand_coded_assignee_form\n",
       "0          Synbank, Inc.                FINANCIAL\n",
       "1          HSBC Bank USA                FINANCIAL\n",
       "2     DWBH Ventures Ltd.                FINANCIAL\n",
       "3   MINERVA PATENTS S.A.                FINANCIAL\n",
       "4  AZA HOLDING PTE. LTD.                FINANCIAL"
      ]
     },
     "execution_count": 5,
     "metadata": {},
     "output_type": "execute_result"
    }
   ],
   "source": [
    "# read file into data frame\n",
    "hand_coded_assignee_form_file_complete_path = \"hand_cleaning/hand_coded_assignee_form_complete.csv\"\n",
    "hand_coded_assignee_form_df = pd.read_csv(hand_coded_assignee_form_file_complete_path, low_memory=False)\n",
    "\n",
    "# check out the data\n",
    "hand_coded_assignee_form_df.head()"
   ]
  },
  {
   "cell_type": "markdown",
   "metadata": {},
   "source": [
    "## Training and test data"
   ]
  },
  {
   "cell_type": "markdown",
   "metadata": {},
   "source": [
    "Before we move forward, we'll want to set aside some of our hand coded data for testing purposes. We'll use part of our 2000 or so hand coded observations to train our model, while saving part to evaluate the performance of our model out of sample. \n",
    "\n",
    "You may recoil a bit at the idea of not using each and every one of your hard-won training observations to build your model; but in the supervised learning context, it's really important to save some data for testing because otherwise we'll be at a severe risk for unwittingly overfitting our training data. What we want to avoid is building a (likely complex) model that fits our training data very well (and therefore gives us the appearance of high performance) but that is so tailored to the idiosyncracies of our training data that it misses the more meaningful, general patterns that we're likely to see when we apply our model to unlabeled data.\n",
    "\n",
    "Note that in addition to test data, machine learning practitioners will also often hold out an additional set of observations from the training data, called validation data. This data is used for tuning the hyperparameters, and allows us to keep our test data completely separate from the data we use to build our models. \n",
    "\n",
    "So without further ado, let's split our hand coded organizational forms into training and test data sets. Turns out scikit-learn will make this easy for us."
   ]
  },
  {
   "cell_type": "code",
   "execution_count": 6,
   "metadata": {},
   "outputs": [],
   "source": [
    "# load some packages\n",
    "from sklearn.model_selection import train_test_split"
   ]
  },
  {
   "cell_type": "code",
   "execution_count": 7,
   "metadata": {},
   "outputs": [],
   "source": [
    "# split into training and test\n",
    "X_assignee_name_train, X_assignee_name_test, y_assignee_name_train, y_assignee_name_test = train_test_split(hand_coded_assignee_form_df[\"organization\"], \n",
    "                                                                                                            hand_coded_assignee_form_df[\"hand_coded_assignee_form\"], \n",
    "                                                                                                            test_size=0.1, \n",
    "                                                                                                            random_state=10101)"
   ]
  },
  {
   "cell_type": "markdown",
   "metadata": {},
   "source": [
    "Now let's check out our two data sets."
   ]
  },
  {
   "cell_type": "code",
   "execution_count": 8,
   "metadata": {},
   "outputs": [
    {
     "name": "stdout",
     "output_type": "stream",
     "text": [
      "(1800,)\n",
      "(200,)\n",
      "(1800,)\n",
      "(200,)\n"
     ]
    }
   ],
   "source": [
    "# show sizes\n",
    "print(X_assignee_name_train.shape)\n",
    "print(X_assignee_name_test.shape)\n",
    "print(y_assignee_name_train.shape)\n",
    "print(y_assignee_name_test.shape)"
   ]
  },
  {
   "cell_type": "markdown",
   "metadata": {},
   "source": [
    "## Features\n",
    "\n",
    "We now have some training and test data. Yay! If we want to draw parallels to territory more familiar to social scientists, what we've essentially done up to this point is build a data set with about 2000 observations and a dependent variable (`hand_coded_assignee_form`), on to which we have tacked a field of more or less raw data (`organization`). What we're missing are some covariates (or right hand side variables) that we can use to predict our dependent variable (or label or class). \n",
    "\n",
    "I've already discussed a few of the barriers that can make entry into machine learning a challenge for social scientists. To that list, I would also add that many concepts that would be familiar to social scientists go by different names in the field of machine learning. In particular, note that in machine learning land, what social scientists refer to as independent variables, control variables, or covariates go by the name of features. \n",
    "\n",
    "Let's go ahead and construct some features for our data. Recall that for the purposes of our particular example, what we want to do is leverage features of organization names (e.g., the presence of things like \"university\" or \"corporation\") to predict the form of the organization. It seems then, that a reasonable set of features would be variables indicating the presence of certain terms in the names of our organization observations. \n",
    "\n",
    "Fortunately, `scikit-learn` will make this process really easy for us. Specifically, we'll us the built in [CountVectorizer](https://scikit-learn.org/stable/modules/generated/sklearn.feature_extraction.text.CountVectorizer.html), which will create a dictionary of features (tokens) and then subsequently allow us to transform documents (i.e., our organization names) into feature vectors. "
   ]
  },
  {
   "cell_type": "code",
   "execution_count": 9,
   "metadata": {},
   "outputs": [],
   "source": [
    "# load some packages\n",
    "from sklearn.feature_extraction.text import CountVectorizer"
   ]
  },
  {
   "cell_type": "code",
   "execution_count": 10,
   "metadata": {},
   "outputs": [],
   "source": [
    "# initialize our CountVectorizer\n",
    "assignee_name_vectorizer = CountVectorizer(lowercase=True, max_df=1.0, min_df=1, stop_words=\"english\")\n",
    "\n",
    "# fit the CountVectorizer to the data\n",
    "X_assignee_name_train_counts = assignee_name_vectorizer.fit_transform(X_assignee_name_train)"
   ]
  },
  {
   "cell_type": "markdown",
   "metadata": {},
   "source": [
    "That's about all there is to it! Let's take a closer look at what we just made."
   ]
  },
  {
   "cell_type": "code",
   "execution_count": 11,
   "metadata": {},
   "outputs": [
    {
     "data": {
      "text/plain": [
       "(1800, 2897)"
      ]
     },
     "execution_count": 11,
     "metadata": {},
     "output_type": "execute_result"
    }
   ],
   "source": [
    "# show the shape of our organization name X feature matrix\n",
    "X_assignee_name_train_counts.shape"
   ]
  },
  {
   "cell_type": "code",
   "execution_count": 12,
   "metadata": {},
   "outputs": [
    {
     "data": {
      "text/plain": [
       "['03',\n",
       " '12',\n",
       " '13',\n",
       " '18',\n",
       " '1943596',\n",
       " '1984',\n",
       " '1990',\n",
       " '1spatial',\n",
       " '2000',\n",
       " '2020',\n",
       " '2749394',\n",
       " '3degrees',\n",
       " '3m',\n",
       " '3u',\n",
       " '440']"
      ]
     },
     "execution_count": 12,
     "metadata": {},
     "output_type": "execute_result"
    }
   ],
   "source": [
    "# show a few features\n",
    "assignee_name_vectorizer.get_feature_names()[0:15]"
   ]
  },
  {
   "cell_type": "markdown",
   "metadata": {},
   "source": [
    "Finally, let's encode our labels as integers."
   ]
  },
  {
   "cell_type": "code",
   "execution_count": 13,
   "metadata": {},
   "outputs": [],
   "source": [
    "# load some packages\n",
    "from sklearn.preprocessing import LabelEncoder"
   ]
  },
  {
   "cell_type": "code",
   "execution_count": 14,
   "metadata": {},
   "outputs": [
    {
     "data": {
      "text/plain": [
       "array(['GOVERNMENT', 'GOVERNMENT', 'FIRM'], dtype=object)"
      ]
     },
     "execution_count": 14,
     "metadata": {},
     "output_type": "execute_result"
    }
   ],
   "source": [
    "# initialize label encoder\n",
    "le = LabelEncoder()\n",
    "\n",
    "# fit LabelEncoder to the data\n",
    "y_assignee_name_train_codes = le.fit_transform(y_assignee_name_train)\n",
    "\n",
    "# we can also reverse the encoding later\n",
    "le.inverse_transform([2, 2, 1])"
   ]
  },
  {
   "cell_type": "markdown",
   "metadata": {},
   "source": [
    "## k Nearest Neighbors\n",
    "\n",
    "> Tennyson once said that if we could understand a single flower, we should know who we are and what the world is. Perhaps he meant that there is no fact, however insignificant, that does not involve universal history and the infinite concatenation of cause and effect. Perhaps he meant that the visible world is implicit every phenomenon, just as the will, according to Schopenhauer, is implicit in every subject. —Jorge Luis Borges, The Zahir\n",
    "\n",
    "Given all the hype around machine learning today, you're probably itching to learn more about the latest and greatest techniques, like deep learning, artificial neural networks, and so forth. If so, I share your sympathies, but I would also suggest that jumping in at the frontier is probably one of the best ways to quickly lose your motivation for further study of machine learning. Many of the latest and greatest techniques are staggeringly complex; given how quickly things are moving, even if you manage to wrap your head around the method du jour it'll soon be ancient history. To make matters worse, due to the high level of interest in the frontiers of machine learning, there's a ton of really bad resources out there right now, more interested in serving you ads than teaching you anything useful.\n",
    "\n",
    "What we'll do in this session is get you up and running with the some of the more basic, but tried-and-true approaches. Having an understanding of these foundations will make it much easier for you to pick up the advanced stuff later. Moreover, you'll walk away with a set of tools that are really useful in their own right. In fact, and not to diminish the accomplishments of recent machine learning research, when you push even the most ardent advocates of fancy techniques like deep learning, they'll usually admit that for many applications, classic methods will get you about 90% of the way to where you want to go (e.g., in terms of accuracy). \n",
    "\n",
    "With that all said, let's get started by considering one of the simpler classification techniques, known as k Nearest Neighbors (kNN). As the name suggests, the basic idea behind kNN is to assign inputs to classes, based on the classes of the $k$ most similar observations (i.e., nearest neighbors) from the training data. That's about it (at least at a high level)! Put a different way, given a new (previously unseen) observation $i$ that we want to classify, we look to the training data and identiy the $k$ most similar observations, based on whatever features we identify as being important. The neighbors then \"vote\" on the class membership of $i$ based on their class membership (which is known in the training data), with (typically) the majority winning.\n",
    "\n",
    "To operationalize kNN classifier, we need to make two important decisions. First, what we will use for $k$ (i.e., how many neighbors to consider)? And second, how we will measure similarity between observations (which we'll use to identify the nearest neighbors)? Your choice of $k$ will probably depend on a combination of your overall goals and your empirical observation of changes in the performance of your classifier with changes in $k$.  Larger values of $k$ will be less sensitive to noise, but will also blur the boundaries between classes.\n",
    "\n",
    "In machine learning, $k$ is an example of a __hyperparameter__, i.e., a parameter that set before training (often manually) rather than being derived from the training data. \n",
    "\n",
    "Let's dig in to an example. We'll try to build a simple kNN classifier for assigning organizational forms to patent assignees based on their names. "
   ]
  },
  {
   "cell_type": "code",
   "execution_count": 15,
   "metadata": {},
   "outputs": [],
   "source": [
    "# load some packages\n",
    "from sklearn.neighbors import KNeighborsClassifier"
   ]
  },
  {
   "cell_type": "code",
   "execution_count": 16,
   "metadata": {},
   "outputs": [],
   "source": [
    "# train our model\n",
    "clf_knn = KNeighborsClassifier(n_neighbors=3).fit(X_assignee_name_train_counts, y_assignee_name_train_codes)"
   ]
  },
  {
   "cell_type": "code",
   "execution_count": 17,
   "metadata": {},
   "outputs": [
    {
     "data": {
      "text/plain": [
       "<2x2897 sparse matrix of type '<class 'numpy.int64'>'\n",
       "\twith 2 stored elements in Compressed Sparse Row format>"
      ]
     },
     "execution_count": 17,
     "metadata": {},
     "output_type": "execute_result"
    }
   ],
   "source": [
    "# create some new observations to classify\n",
    "assignee_names_new = ['Microsoft Corporation', 'University of Minnesota']\n",
    "X_new_counts = assignee_name_vectorizer.transform(assignee_names_new)\n",
    "X_new_counts"
   ]
  },
  {
   "cell_type": "code",
   "execution_count": 18,
   "metadata": {},
   "outputs": [
    {
     "name": "stdout",
     "output_type": "stream",
     "text": [
      "Microsoft Corporation ['FIRM']\n",
      "University of Minnesota ['UNIVERSITY']\n"
     ]
    }
   ],
   "source": [
    "# let's try out our classifier\n",
    "predicted = clf_knn.predict(X_new_counts)\n",
    "for assignee_name_new, organizational_form in zip(assignee_names_new, predicted):\n",
    "  print(assignee_name_new, le.inverse_transform([organizational_form]))"
   ]
  },
  {
   "cell_type": "markdown",
   "metadata": {},
   "source": [
    "Now let's evaluate the performance of our classifier on the test data."
   ]
  },
  {
   "cell_type": "code",
   "execution_count": 19,
   "metadata": {},
   "outputs": [
    {
     "data": {
      "text/plain": [
       "0.885"
      ]
     },
     "execution_count": 19,
     "metadata": {},
     "output_type": "execute_result"
    }
   ],
   "source": [
    "# prepare the test features\n",
    "X_assignee_name_test_counts = assignee_name_vectorizer.transform(X_assignee_name_test)\n",
    "\n",
    "# prepare the test labels\n",
    "y_assignee_name_test_codes = le.transform(y_assignee_name_test)\n",
    "\n",
    "# compute mean accuracy\n",
    "clf_knn.score(X_assignee_name_test_counts, y_assignee_name_test_codes)"
   ]
  },
  {
   "cell_type": "markdown",
   "metadata": {},
   "source": [
    "We can also get a more detailed report."
   ]
  },
  {
   "cell_type": "code",
   "execution_count": 20,
   "metadata": {},
   "outputs": [
    {
     "name": "stdout",
     "output_type": "stream",
     "text": [
      "0.885\n",
      "              precision    recall  f1-score   support\n",
      "\n",
      "           0       1.00      0.22      0.36         9\n",
      "           1       0.88      1.00      0.94       166\n",
      "           2       0.00      0.00      0.00         4\n",
      "           4       0.00      0.00      0.00         1\n",
      "           5       1.00      0.55      0.71        11\n",
      "           6       1.00      0.33      0.50         9\n",
      "\n",
      "    accuracy                           0.89       200\n",
      "   macro avg       0.65      0.35      0.42       200\n",
      "weighted avg       0.87      0.89      0.85       200\n",
      "\n"
     ]
    }
   ],
   "source": [
    "# load some packates\n",
    "import numpy as np\n",
    "from sklearn import metrics\n",
    "\n",
    "# get predictions for test data\n",
    "predicted = clf_knn.predict(X_assignee_name_test_counts)\n",
    "\n",
    "# evaluation\n",
    "print(np.mean(y_assignee_name_test_codes == predicted))\n",
    "print(metrics.classification_report(y_assignee_name_test_codes, predicted, zero_division=0))"
   ]
  },
  {
   "cell_type": "markdown",
   "metadata": {},
   "source": [
    "## Naive Bayes"
   ]
  },
  {
   "cell_type": "markdown",
   "metadata": {},
   "source": [
    "Before we move forward I want to introduce you to one more simple but powerful approach to classification known as Naive Bayes (Manning et al., 2008). As you probably expect from the name, Naive Bayes is a probabilistic method and is based on Bayes's theorem. You may recall that Bayes's theorem says that \n",
    "\n",
    "$$  P(A|B) = \\frac{P(B|A)P(A)}{P(B)}, $$\n",
    "\n",
    "which is helpful because it allows us to decompose the conditional probability $P(A|B)$ into probabilities that might be easier for us to measure. Returning to our example of classifying organizational forms based on features of their names, we can write the probability that name $n$ is of form $f$ as\n",
    "\n",
    "$$  P(f|m) \\propto P(f) \\prod_{1 \\leq k \\leq n_m} P(t_k|f), $$\n",
    "\n",
    "where $P(t_k|f)$ is the conditional probability of token (e.g., \"corporation\", \"university\") $t_k$ appearing in a name of form $f$. The basic idea of the Naive Bayes approach, then, is to assign the most likely (or maximum a posteriori) class (or form in our case),  \n",
    "\n",
    "$$f_{map} = \\arg\\max_{f \\in F} \\hat{P}(f) \\prod_{1 \\leq k \\leq n_m} P(t_k | f).$$\n",
    "\n",
    "The name \"Naive\" comes from the fact that we are making the assumption that features are conditionally independent. Although this assumptions is usually heroic, Naive Bayes classifiers perform quite well in many real world applications. Let's try to build our own to classify organizational forms. Because we have multiple different classes (i.e., organizational forms), we'll be using an approach called multinomial Naive Bayes. "
   ]
  },
  {
   "cell_type": "code",
   "execution_count": 21,
   "metadata": {},
   "outputs": [],
   "source": [
    "# load some packages\n",
    "from sklearn.naive_bayes import MultinomialNB"
   ]
  },
  {
   "cell_type": "code",
   "execution_count": 22,
   "metadata": {},
   "outputs": [],
   "source": [
    "# train our model\n",
    "clf_mnb = MultinomialNB().fit(X_assignee_name_train_counts, y_assignee_name_train_codes)"
   ]
  },
  {
   "cell_type": "code",
   "execution_count": 23,
   "metadata": {},
   "outputs": [
    {
     "name": "stdout",
     "output_type": "stream",
     "text": [
      "Microsoft Corporation ['FIRM']\n",
      "University of Minnesota ['UNIVERSITY']\n"
     ]
    }
   ],
   "source": [
    "# let's try out our classifier (we'll reuse \"assignee_name_new\" and \"X_new_counts\" from our knn example)\n",
    "predicted = clf_mnb.predict(X_new_counts)\n",
    "for assignee_name_new, organizational_form in zip(assignee_names_new, predicted):\n",
    "  print(assignee_name_new, le.inverse_transform([organizational_form]))"
   ]
  },
  {
   "cell_type": "markdown",
   "metadata": {},
   "source": [
    "Now let's evaluate the performance of our classifier on the test data."
   ]
  },
  {
   "cell_type": "code",
   "execution_count": 24,
   "metadata": {},
   "outputs": [
    {
     "data": {
      "text/plain": [
       "0.895"
      ]
     },
     "execution_count": 24,
     "metadata": {},
     "output_type": "execute_result"
    }
   ],
   "source": [
    "# compute mean accuracy (we'll reuse \"X_assignee_name_test_counts\" and \"y_assignee_name_test_codes\" from our knn example)\n",
    "clf_mnb.score(X_assignee_name_test_counts, y_assignee_name_test_codes)"
   ]
  },
  {
   "cell_type": "markdown",
   "metadata": {},
   "source": [
    "Finally, let's take a look under the hood at some of the most informative features."
   ]
  },
  {
   "cell_type": "code",
   "execution_count": 25,
   "metadata": {},
   "outputs": [
    {
     "name": "stdout",
     "output_type": "stream",
     "text": [
      "0, FINANCIAL: trust ventures partners corporation partnership holding llc limited development holdings\n",
      "1, FIRM: international products systems technology company technologies gmbh limited corporation llc\n",
      "2, GOVERNMENT: chandler disease chinese federal law control enforcement research national institute\n",
      "3, NONPROFIT: equal hospital gakuin mofet chwan scientific centro central association foundation\n",
      "4, OTHER: fuji fujian fts france gilber razran kennedy james steinbach friedrich\n",
      "5, PROFESSIONAL: consulting limited service management llc design services associates engineering solutions\n",
      "6, UNIVERSITY: universite et instituto korea research sciences technology institut institute university\n"
     ]
    }
   ],
   "source": [
    "# get a list of feature names\n",
    "feature_names = assignee_name_vectorizer.get_feature_names()\n",
    "\n",
    "# loop over forms and pull most informative features\n",
    "for i, organizational_form in enumerate(clf_mnb.classes_):\n",
    "  top_10_features = np.argsort(clf_mnb.coef_[i])[-10:]\n",
    "  print(\"%s, %s: %s\" % (organizational_form, \n",
    "                        le.inverse_transform([organizational_form])[0], \n",
    "                        \" \".join(feature_names[j] for j in top_10_features)))"
   ]
  },
  {
   "cell_type": "markdown",
   "metadata": {},
   "source": [
    "# Unsupervised learning"
   ]
  },
  {
   "cell_type": "markdown",
   "metadata": {},
   "source": [
    "The second major branch of machine learning is what's known as unsupervised learning. As you might discern from the name, the major distinguishing feature of unsupervised learning relative to supervised learning is that in the former, we do not use training data (i.e., labeled examples) to build our model. Instead, unsupervised learning methods tend to be much more inductive in nature. Rather training our algorithms, for example, how to sort observations into previously defined (i.e., researcher supplied) categories, we are instead asking our algorithms to identify patterns in the data for us. \n",
    "\n",
    "Clustering is probably the largest stream of unsupervised learning, and it's what we'll focus on in this class. Given a set of features (here, we no longer have an outcome or label), a clustering algorithm will look for patterns that allow us to separate observations in to discrete (often mutually exclusive) categories. As with our approach to supervised learning, we'll focus on a few of the simpler but tried-and-true methods in our explorations. Before we get started, let me introduce you to a new empirical application."
   ]
  },
  {
   "cell_type": "markdown",
   "metadata": {},
   "source": [
    "## Political polarization\n",
    "\n",
    "Although political scientists and sociologists have been interested in political polarization for many years (DiMaggio, Evans, and Bryson 1996; Baldassarri and Gelman, 2008), the growth of social media, contentious presidential elections in the United States, foreign interference in elections, and other factors have led to renewed interest in the topic (Liu and Srivastava, 2015; Bail, 2018; Kaul and Luo, 2019). Generally, while there is some evidence of polarization over time, this work also underscores that polarization is a complex phenomenon, where much still remains to be understood. Let's see if we can use machine learning to gain some insight on the dynamics of political polarization over time. \n",
    "\n",
    "To make our efforts a little more tractable, we'll focus on polarization among political elites, specifically members of the United States Senate. To do so, we'll need some way of characterizing senators political views. What's nice about focusing on Senators is that we have a fairly objective way of doing so—their voting records. \n",
    "\n",
    "We'll download historical voting records for the United States Senate from [Voteview](https://voteview.com) (hosted by UCLA's Department of Political Science and Social Science Computing), which makes these data publicly available in an easy to use comma separated file. In case this example piques your interest, the file also contains historical voting records for the United States House of Representatives (but we'll drop those for now to keep things simple). \n",
    "\n",
    "To keep thinkgs simple, we'll make of some measures, pioneered by political scientists Poole and Rosenthal (1983, 1985), to characterize the political ideology of members of Congress based on their voting records, which will make some of our clustering a little more straightforward. However, we'll also load the raw vote data just to have on hand and for use in the exercises. \n",
    "\n",
    "Enough throat clearing. Let's dig in! "
   ]
  },
  {
   "cell_type": "code",
   "execution_count": 69,
   "metadata": {},
   "outputs": [],
   "source": [
    "# download the vote data\n",
    "voteview_member_vote_file_url = \"https://voteview.com/static/data/out/votes/HSall_votes.csv\"\n",
    "voteview_member_vote_file_path = \"data/HSall_votes.csv\"\n",
    "#filename, headers = urllib.request.urlretrieve(voteview_member_vote_file_url, voteview_member_vote_file_path)\n",
    "\n",
    "# download the ideology data\n",
    "voteview_member_ideology_file_url = \"https://voteview.com/static/data/out/members/HSall_members.csv\"\n",
    "voteview_member_ideology_file_path = \"data/HSall_members.csv\"\n",
    "#filename, headers = urllib.request.urlretrieve(voteview_member_ideology_file_url, voteview_member_ideology_file_path)"
   ]
  },
  {
   "cell_type": "code",
   "execution_count": 70,
   "metadata": {},
   "outputs": [
    {
     "data": {
      "text/html": [
       "<div>\n",
       "<style scoped>\n",
       "    .dataframe tbody tr th:only-of-type {\n",
       "        vertical-align: middle;\n",
       "    }\n",
       "\n",
       "    .dataframe tbody tr th {\n",
       "        vertical-align: top;\n",
       "    }\n",
       "\n",
       "    .dataframe thead th {\n",
       "        text-align: right;\n",
       "    }\n",
       "</style>\n",
       "<table border=\"1\" class=\"dataframe\">\n",
       "  <thead>\n",
       "    <tr style=\"text-align: right;\">\n",
       "      <th></th>\n",
       "      <th>congress</th>\n",
       "      <th>chamber</th>\n",
       "      <th>rollnumber</th>\n",
       "      <th>icpsr</th>\n",
       "      <th>cast_code</th>\n",
       "      <th>prob</th>\n",
       "    </tr>\n",
       "  </thead>\n",
       "  <tbody>\n",
       "    <tr>\n",
       "      <th>0</th>\n",
       "      <td>1</td>\n",
       "      <td>House</td>\n",
       "      <td>1</td>\n",
       "      <td>154</td>\n",
       "      <td>6</td>\n",
       "      <td>61.1</td>\n",
       "    </tr>\n",
       "    <tr>\n",
       "      <th>1</th>\n",
       "      <td>1</td>\n",
       "      <td>House</td>\n",
       "      <td>1</td>\n",
       "      <td>259</td>\n",
       "      <td>9</td>\n",
       "      <td>99.6</td>\n",
       "    </tr>\n",
       "    <tr>\n",
       "      <th>2</th>\n",
       "      <td>1</td>\n",
       "      <td>House</td>\n",
       "      <td>1</td>\n",
       "      <td>379</td>\n",
       "      <td>1</td>\n",
       "      <td>100.0</td>\n",
       "    </tr>\n",
       "    <tr>\n",
       "      <th>3</th>\n",
       "      <td>1</td>\n",
       "      <td>House</td>\n",
       "      <td>1</td>\n",
       "      <td>649</td>\n",
       "      <td>1</td>\n",
       "      <td>59.2</td>\n",
       "    </tr>\n",
       "    <tr>\n",
       "      <th>4</th>\n",
       "      <td>1</td>\n",
       "      <td>House</td>\n",
       "      <td>1</td>\n",
       "      <td>786</td>\n",
       "      <td>1</td>\n",
       "      <td>97.7</td>\n",
       "    </tr>\n",
       "  </tbody>\n",
       "</table>\n",
       "</div>"
      ],
      "text/plain": [
       "   congress chamber  rollnumber  icpsr  cast_code   prob\n",
       "0         1   House           1    154          6   61.1\n",
       "1         1   House           1    259          9   99.6\n",
       "2         1   House           1    379          1  100.0\n",
       "3         1   House           1    649          1   59.2\n",
       "4         1   House           1    786          1   97.7"
      ]
     },
     "execution_count": 70,
     "metadata": {},
     "output_type": "execute_result"
    }
   ],
   "source": [
    "# read vote file into data frame\n",
    "member_vote_df = pd.read_csv(voteview_member_vote_file_path, low_memory=False)\n",
    "\n",
    "# check out the data\n",
    "member_vote_df.head()"
   ]
  },
  {
   "cell_type": "code",
   "execution_count": 71,
   "metadata": {},
   "outputs": [
    {
     "data": {
      "text/html": [
       "<div>\n",
       "<style scoped>\n",
       "    .dataframe tbody tr th:only-of-type {\n",
       "        vertical-align: middle;\n",
       "    }\n",
       "\n",
       "    .dataframe tbody tr th {\n",
       "        vertical-align: top;\n",
       "    }\n",
       "\n",
       "    .dataframe thead th {\n",
       "        text-align: right;\n",
       "    }\n",
       "</style>\n",
       "<table border=\"1\" class=\"dataframe\">\n",
       "  <thead>\n",
       "    <tr style=\"text-align: right;\">\n",
       "      <th></th>\n",
       "      <th>congress</th>\n",
       "      <th>chamber</th>\n",
       "      <th>icpsr</th>\n",
       "      <th>state_icpsr</th>\n",
       "      <th>district_code</th>\n",
       "      <th>state_abbrev</th>\n",
       "      <th>party_code</th>\n",
       "      <th>occupancy</th>\n",
       "      <th>last_means</th>\n",
       "      <th>bioname</th>\n",
       "      <th>...</th>\n",
       "      <th>died</th>\n",
       "      <th>nominate_dim1</th>\n",
       "      <th>nominate_dim2</th>\n",
       "      <th>nominate_log_likelihood</th>\n",
       "      <th>nominate_geo_mean_probability</th>\n",
       "      <th>nominate_number_of_votes</th>\n",
       "      <th>nominate_number_of_errors</th>\n",
       "      <th>conditional</th>\n",
       "      <th>nokken_poole_dim1</th>\n",
       "      <th>nokken_poole_dim2</th>\n",
       "    </tr>\n",
       "  </thead>\n",
       "  <tbody>\n",
       "    <tr>\n",
       "      <th>0</th>\n",
       "      <td>1</td>\n",
       "      <td>President</td>\n",
       "      <td>99869</td>\n",
       "      <td>99</td>\n",
       "      <td>0</td>\n",
       "      <td>USA</td>\n",
       "      <td>5000</td>\n",
       "      <td>NaN</td>\n",
       "      <td>NaN</td>\n",
       "      <td>WASHINGTON, George</td>\n",
       "      <td>...</td>\n",
       "      <td>NaN</td>\n",
       "      <td>NaN</td>\n",
       "      <td>NaN</td>\n",
       "      <td>NaN</td>\n",
       "      <td>NaN</td>\n",
       "      <td>NaN</td>\n",
       "      <td>NaN</td>\n",
       "      <td>NaN</td>\n",
       "      <td>NaN</td>\n",
       "      <td>NaN</td>\n",
       "    </tr>\n",
       "    <tr>\n",
       "      <th>1</th>\n",
       "      <td>1</td>\n",
       "      <td>House</td>\n",
       "      <td>4766</td>\n",
       "      <td>1</td>\n",
       "      <td>98</td>\n",
       "      <td>CT</td>\n",
       "      <td>5000</td>\n",
       "      <td>0.0</td>\n",
       "      <td>1.0</td>\n",
       "      <td>HUNTINGTON, Benjamin</td>\n",
       "      <td>...</td>\n",
       "      <td>1800.0</td>\n",
       "      <td>0.639</td>\n",
       "      <td>0.304</td>\n",
       "      <td>-29.04670</td>\n",
       "      <td>0.708</td>\n",
       "      <td>84.0</td>\n",
       "      <td>12.0</td>\n",
       "      <td>NaN</td>\n",
       "      <td>0.649</td>\n",
       "      <td>0.229</td>\n",
       "    </tr>\n",
       "    <tr>\n",
       "      <th>2</th>\n",
       "      <td>1</td>\n",
       "      <td>House</td>\n",
       "      <td>8457</td>\n",
       "      <td>1</td>\n",
       "      <td>98</td>\n",
       "      <td>CT</td>\n",
       "      <td>5000</td>\n",
       "      <td>0.0</td>\n",
       "      <td>1.0</td>\n",
       "      <td>SHERMAN, Roger</td>\n",
       "      <td>...</td>\n",
       "      <td>1793.0</td>\n",
       "      <td>0.589</td>\n",
       "      <td>0.307</td>\n",
       "      <td>-40.59580</td>\n",
       "      <td>0.684</td>\n",
       "      <td>107.0</td>\n",
       "      <td>18.0</td>\n",
       "      <td>NaN</td>\n",
       "      <td>0.614</td>\n",
       "      <td>0.298</td>\n",
       "    </tr>\n",
       "    <tr>\n",
       "      <th>3</th>\n",
       "      <td>1</td>\n",
       "      <td>House</td>\n",
       "      <td>9062</td>\n",
       "      <td>1</td>\n",
       "      <td>98</td>\n",
       "      <td>CT</td>\n",
       "      <td>5000</td>\n",
       "      <td>0.0</td>\n",
       "      <td>1.0</td>\n",
       "      <td>STURGES, Jonathan</td>\n",
       "      <td>...</td>\n",
       "      <td>1819.0</td>\n",
       "      <td>0.531</td>\n",
       "      <td>0.448</td>\n",
       "      <td>-25.87361</td>\n",
       "      <td>0.724</td>\n",
       "      <td>80.0</td>\n",
       "      <td>13.0</td>\n",
       "      <td>NaN</td>\n",
       "      <td>0.573</td>\n",
       "      <td>0.529</td>\n",
       "    </tr>\n",
       "    <tr>\n",
       "      <th>4</th>\n",
       "      <td>1</td>\n",
       "      <td>House</td>\n",
       "      <td>9489</td>\n",
       "      <td>1</td>\n",
       "      <td>98</td>\n",
       "      <td>CT</td>\n",
       "      <td>5000</td>\n",
       "      <td>0.0</td>\n",
       "      <td>1.0</td>\n",
       "      <td>TRUMBULL, Jonathan, Jr.</td>\n",
       "      <td>...</td>\n",
       "      <td>1809.0</td>\n",
       "      <td>0.692</td>\n",
       "      <td>0.246</td>\n",
       "      <td>-30.47113</td>\n",
       "      <td>0.750</td>\n",
       "      <td>106.0</td>\n",
       "      <td>11.0</td>\n",
       "      <td>NaN</td>\n",
       "      <td>0.749</td>\n",
       "      <td>0.166</td>\n",
       "    </tr>\n",
       "  </tbody>\n",
       "</table>\n",
       "<p>5 rows × 22 columns</p>\n",
       "</div>"
      ],
      "text/plain": [
       "   congress    chamber  icpsr  state_icpsr  district_code state_abbrev  \\\n",
       "0         1  President  99869           99              0          USA   \n",
       "1         1      House   4766            1             98           CT   \n",
       "2         1      House   8457            1             98           CT   \n",
       "3         1      House   9062            1             98           CT   \n",
       "4         1      House   9489            1             98           CT   \n",
       "\n",
       "   party_code  occupancy  last_means                  bioname  ...    died  \\\n",
       "0        5000        NaN         NaN       WASHINGTON, George  ...     NaN   \n",
       "1        5000        0.0         1.0     HUNTINGTON, Benjamin  ...  1800.0   \n",
       "2        5000        0.0         1.0           SHERMAN, Roger  ...  1793.0   \n",
       "3        5000        0.0         1.0        STURGES, Jonathan  ...  1819.0   \n",
       "4        5000        0.0         1.0  TRUMBULL, Jonathan, Jr.  ...  1809.0   \n",
       "\n",
       "   nominate_dim1  nominate_dim2  nominate_log_likelihood  \\\n",
       "0            NaN            NaN                      NaN   \n",
       "1          0.639          0.304                -29.04670   \n",
       "2          0.589          0.307                -40.59580   \n",
       "3          0.531          0.448                -25.87361   \n",
       "4          0.692          0.246                -30.47113   \n",
       "\n",
       "   nominate_geo_mean_probability  nominate_number_of_votes  \\\n",
       "0                            NaN                       NaN   \n",
       "1                          0.708                      84.0   \n",
       "2                          0.684                     107.0   \n",
       "3                          0.724                      80.0   \n",
       "4                          0.750                     106.0   \n",
       "\n",
       "   nominate_number_of_errors  conditional  nokken_poole_dim1  \\\n",
       "0                        NaN          NaN                NaN   \n",
       "1                       12.0          NaN              0.649   \n",
       "2                       18.0          NaN              0.614   \n",
       "3                       13.0          NaN              0.573   \n",
       "4                       11.0          NaN              0.749   \n",
       "\n",
       "   nokken_poole_dim2  \n",
       "0                NaN  \n",
       "1              0.229  \n",
       "2              0.298  \n",
       "3              0.529  \n",
       "4              0.166  \n",
       "\n",
       "[5 rows x 22 columns]"
      ]
     },
     "execution_count": 71,
     "metadata": {},
     "output_type": "execute_result"
    }
   ],
   "source": [
    "# read ideology file into data frame\n",
    "member_ideology_df = pd.read_csv(voteview_member_ideology_file_path, low_memory=False)\n",
    "\n",
    "# check out the data\n",
    "member_ideology_df.head()"
   ]
  },
  {
   "cell_type": "markdown",
   "metadata": {},
   "source": [
    "Now let's merge the two data frames into one we can use for our analyses."
   ]
  },
  {
   "cell_type": "markdown",
   "metadata": {},
   "source": [
    "Let's subset the data a little to make things simpler. We'll focus only on the Senate. We'll also drop some columns that we don't really need."
   ]
  },
  {
   "cell_type": "code",
   "execution_count": 72,
   "metadata": {},
   "outputs": [],
   "source": [
    "# keep only Senate\n",
    "member_vote_df = member_vote_df[member_vote_df.chamber == \"Senate\"]\n",
    "member_ideology_df = member_ideology_df[member_ideology_df.chamber == \"Senate\"]\n",
    "\n",
    "# drop columns we don't need\n",
    "member_vote_df = member_vote_df[[\"congress\", \"icpsr\", \"rollnumber\", \"cast_code\"]]\n",
    "member_ideology_df = member_ideology_df[[\"congress\", \"icpsr\", \"bioname\", \"party_code\", \"nominate_dim1\", \"nominate_dim2\"]]\n",
    "\n",
    "# set cast_code to categorical\n",
    "member_vote_df[\"cast_code\"] = member_vote_df[\"cast_code\"].astype(\"category\")\n",
    "\n",
    "# set party_code to categorical\n",
    "member_ideology_df[\"party_code\"] = member_ideology_df[\"party_code\"].astype(\"category\")"
   ]
  },
  {
   "cell_type": "code",
   "execution_count": 73,
   "metadata": {},
   "outputs": [
    {
     "data": {
      "text/plain": [
       "(9659, 2)"
      ]
     },
     "execution_count": 73,
     "metadata": {},
     "output_type": "execute_result"
    }
   ],
   "source": [
    "# check out the data\n",
    "member_vote_df.head()"
   ]
  },
  {
   "cell_type": "code",
   "execution_count": 74,
   "metadata": {},
   "outputs": [
    {
     "data": {
      "text/plain": [
       "(9688, 2)"
      ]
     },
     "execution_count": 74,
     "metadata": {},
     "output_type": "execute_result"
    }
   ],
   "source": [
    "# check out the data\n",
    "member_ideology_df.head()"
   ]
  },
  {
   "cell_type": "markdown",
   "metadata": {},
   "source": [
    "Finally, let's keep common cases across the two data frames."
   ]
  },
  {
   "cell_type": "code",
   "execution_count": 75,
   "metadata": {},
   "outputs": [],
   "source": [
    "# create a merged dataframe\n",
    "member_vote_ideology_df = member_vote_df.merge(member_ideology_df, on=[\"congress\", \"icpsr\"], how=\"inner\", indicator=True)\n",
    "\n",
    "# keep common cases in the member_vote_df dataframe\n",
    "member_vote_df = member_vote_ideology_df[[\"congress\", \"icpsr\", \"rollnumber\", \"cast_code\"]].drop_duplicates()\n",
    "\n",
    "# keep common cases in the member_ideology_df dataframe\n",
    "member_ideology_df = member_vote_ideology_df[[\"congress\", \"icpsr\", \"bioname\", \"party_code\", \"nominate_dim1\", \"nominate_dim2\"]].drop_duplicates()"
   ]
  },
  {
   "cell_type": "markdown",
   "metadata": {},
   "source": [
    "Now we're ready for some unsupervised learning!"
   ]
  },
  {
   "cell_type": "markdown",
   "metadata": {},
   "source": [
    "# k-means clustering"
   ]
  },
  {
   "cell_type": "markdown",
   "metadata": {},
   "source": [
    "Recall that our goal in clustering is to separate the observations in our data into discrete bins, based on some set of features or variables. k-means clustering is a relatively simple approach that will get us to that goal. The basic idea behind k-means is to partition our data in to $k$ clusters, such that each observation is assigned to the cluster with the nearest mean. \n",
    "\n",
    "As with k-nearest neighbors, $k$ is a hyperparameter that we need to set in advance of running the algorithm. However, note that the meaning of $k$ is different in $k$ means and $k$ nearest neighbors. In the former, $k$ refers to the number of clusters, whereas in the latter, $k$ is in reference to the number of neighbors used to make cluster assignment. Because we need to specify the number of clusters in advance, k means is often ideal for when we have some sense for the number of clusters we think we'll end up finding (although there are methods that we'll discuss below that we can use to in some ways inductively find an appropriate number of clusters from the data). \n",
    "\n",
    "From a more technical standpoint, k-means aims to minimize the within cluster variances (i.e., sum of squared distances between points and means). Typically, the initial means are chosen by randomly picking $k$ points from the data. All points are then assigned to the cluster with the nearest mean. Cluster means are then recomputed based on the new point assignments. We then assign all points to the cluster with the nearest mean, update the means, and we keep continuing this process. The algorithm will stop either when we reach a stable clustering solution or we reach a pre-specified number of iterations. \n",
    "\n",
    "A limitation of classical k-means algorithms will find a local minimum. One common solution to this problem is to run the algorithm multiple times with different starting points and choose the best solution.\n",
    "\n",
    "Without further ado, let's apply k-means to our political ideology data. We'll begin by subsetting our data to the 115th congress to make things a bit simpler. "
   ]
  },
  {
   "cell_type": "code",
   "execution_count": 126,
   "metadata": {},
   "outputs": [
    {
     "data": {
      "text/html": [
       "<div>\n",
       "<style scoped>\n",
       "    .dataframe tbody tr th:only-of-type {\n",
       "        vertical-align: middle;\n",
       "    }\n",
       "\n",
       "    .dataframe tbody tr th {\n",
       "        vertical-align: top;\n",
       "    }\n",
       "\n",
       "    .dataframe thead th {\n",
       "        text-align: right;\n",
       "    }\n",
       "</style>\n",
       "<table border=\"1\" class=\"dataframe\">\n",
       "  <thead>\n",
       "    <tr style=\"text-align: right;\">\n",
       "      <th></th>\n",
       "      <th>icpsr</th>\n",
       "      <th>bioname</th>\n",
       "      <th>party_code</th>\n",
       "      <th>nominate_dim1</th>\n",
       "      <th>nominate_dim2</th>\n",
       "    </tr>\n",
       "  </thead>\n",
       "  <tbody>\n",
       "    <tr>\n",
       "      <th>35058</th>\n",
       "      <td>4418</td>\n",
       "      <td>HILL, Joseph Lister</td>\n",
       "      <td>100</td>\n",
       "      <td>-0.265</td>\n",
       "      <td>0.851</td>\n",
       "    </tr>\n",
       "    <tr>\n",
       "      <th>35059</th>\n",
       "      <td>8764</td>\n",
       "      <td>SPARKMAN, John Jackson</td>\n",
       "      <td>100</td>\n",
       "      <td>-0.204</td>\n",
       "      <td>0.795</td>\n",
       "    </tr>\n",
       "    <tr>\n",
       "      <th>35060</th>\n",
       "      <td>486</td>\n",
       "      <td>BARTLETT, Edward Lewis (Bob)</td>\n",
       "      <td>100</td>\n",
       "      <td>-0.495</td>\n",
       "      <td>0.484</td>\n",
       "    </tr>\n",
       "    <tr>\n",
       "      <th>35061</th>\n",
       "      <td>3864</td>\n",
       "      <td>GRUENING, Ernest Henry</td>\n",
       "      <td>100</td>\n",
       "      <td>-0.689</td>\n",
       "      <td>0.724</td>\n",
       "    </tr>\n",
       "    <tr>\n",
       "      <th>35062</th>\n",
       "      <td>4227</td>\n",
       "      <td>HAYDEN, Carl Trumbull</td>\n",
       "      <td>100</td>\n",
       "      <td>-0.221</td>\n",
       "      <td>0.334</td>\n",
       "    </tr>\n",
       "  </tbody>\n",
       "</table>\n",
       "</div>"
      ],
      "text/plain": [
       "       icpsr                       bioname party_code  nominate_dim1  \\\n",
       "35058   4418           HILL, Joseph Lister        100         -0.265   \n",
       "35059   8764        SPARKMAN, John Jackson        100         -0.204   \n",
       "35060    486  BARTLETT, Edward Lewis (Bob)        100         -0.495   \n",
       "35061   3864        GRUENING, Ernest Henry        100         -0.689   \n",
       "35062   4227         HAYDEN, Carl Trumbull        100         -0.221   \n",
       "\n",
       "       nominate_dim2  \n",
       "35058          0.851  \n",
       "35059          0.795  \n",
       "35060          0.484  \n",
       "35061          0.724  \n",
       "35062          0.334  "
      ]
     },
     "execution_count": 126,
     "metadata": {},
     "output_type": "execute_result"
    }
   ],
   "source": [
    "# pull a subset\n",
    "member_ideology_df_subset = member_ideology_df[member_ideology_df.congress == 115]\n",
    "\n",
    "# drop congress column\n",
    "member_ideology_df_subset = member_ideology_df_subset.drop(columns=[\"congress\"])\n",
    "\n",
    "# check out the data\n",
    "member_ideology_df_subset.head()"
   ]
  },
  {
   "cell_type": "markdown",
   "metadata": {},
   "source": [
    "Now let's run k-means using scikit-learn. We'll cluster based on two variables, `nominate_dim1` and `nominate_dim2`. The former supposedly corresponds roughly to economic liberalism-conservativism, while the latter is thought to capture issues of the day."
   ]
  },
  {
   "cell_type": "code",
   "execution_count": 90,
   "metadata": {},
   "outputs": [],
   "source": [
    "# load some packages\n",
    "from sklearn.cluster import KMeans"
   ]
  },
  {
   "cell_type": "code",
   "execution_count": 107,
   "metadata": {},
   "outputs": [],
   "source": [
    "# train our model\n",
    "clu = KMeans(n_clusters=2, random_state=0).fit(member_ideology_df_subset[[\"nominate_dim1\", \"nominate_dim2\"]].values)"
   ]
  },
  {
   "cell_type": "code",
   "execution_count": 122,
   "metadata": {},
   "outputs": [
    {
     "data": {
      "text/plain": [
       "array([0, 0, 0, 0, 0, 1, 0, 0, 1, 1, 1, 1, 1, 1, 1, 1, 0, 0, 0, 0, 1, 0,\n",
       "       0, 1, 1, 1, 0, 0, 1, 1, 1, 1, 1, 1, 0, 0, 0, 1, 1, 1, 1, 1, 1, 1,\n",
       "       0, 1, 0, 0, 0, 0, 0, 0, 1, 1, 0, 0, 1, 0, 1, 1, 0, 0, 1, 1, 1, 0,\n",
       "       0, 0, 0, 1, 1, 0, 0, 0, 1, 1, 1, 1, 1, 1, 0, 0, 1, 0, 1, 0, 1, 1,\n",
       "       0, 1, 1, 0, 0, 0, 0, 0, 0, 0, 0, 0, 1], dtype=int32)"
      ]
     },
     "execution_count": 122,
     "metadata": {},
     "output_type": "execute_result"
    }
   ],
   "source": [
    "# check out the clusters\n",
    "clu.labels_"
   ]
  },
  {
   "cell_type": "code",
   "execution_count": 123,
   "metadata": {},
   "outputs": [
    {
     "data": {
      "text/plain": [
       "(2, 2)"
      ]
     },
     "execution_count": 123,
     "metadata": {},
     "output_type": "execute_result"
    }
   ],
   "source": [
    "# check out the cluster centers\n",
    "clu.cluster_centers_"
   ]
  },
  {
   "cell_type": "markdown",
   "metadata": {},
   "source": [
    "We're now in a position where we can plot our clustering solutions. Let's give that a shot. "
   ]
  },
  {
   "cell_type": "code",
   "execution_count": 124,
   "metadata": {},
   "outputs": [],
   "source": [
    "# load some packages\n",
    "import matplotlib.pyplot as plt"
   ]
  },
  {
   "cell_type": "code",
   "execution_count": 127,
   "metadata": {},
   "outputs": [
    {
     "data": {
      "text/plain": [
       "<matplotlib.collections.PathCollection at 0x142465400>"
      ]
     },
     "execution_count": 127,
     "metadata": {},
     "output_type": "execute_result"
    },
    {
     "data": {
      "image/png": "[encoded data removed]",
      "text/plain": [
       "<Figure size 432x288 with 1 Axes>"
      ]
     },
     "metadata": {
      "needs_background": "light"
     },
     "output_type": "display_data"
    }
   ],
   "source": [
    "# create a scatter plot\n",
    "plt.scatter(member_ideology_df_subset.nominate_dim1, \n",
    "            member_ideology_df_subset.nominate_dim2, \n",
    "            c=clu.labels_)"
   ]
  },
  {
   "cell_type": "markdown",
   "metadata": {},
   "source": [
    "Previously, I picked 2 clusters mainly because I figured that would make sense given our two party system. But perhaps the political world is more complex, and we may have better performance with a more complex method. Let's run some additional clustering solutions with different values of $k$ and compare their performance."
   ]
  },
  {
   "cell_type": "code",
   "execution_count": 128,
   "metadata": {},
   "outputs": [],
   "source": [
    "# create a dictionary to hold the sses\n",
    "sse = {}\n",
    "\n",
    "# run the clustering algorithm over different values of k\n",
    "for k in range(1, 10):\n",
    "  \n",
    "  # perform clustering\n",
    "  clu = KMeans(n_clusters=k, random_state=0).fit(member_ideology_df_subset[[\"nominate_dim1\", \"nominate_dim2\"]].values)\n",
    "\n",
    "  # save the sses\n",
    "  sse[k] = clu.inertia_"
   ]
  },
  {
   "cell_type": "markdown",
   "metadata": {},
   "source": [
    "Now let's plot the result."
   ]
  },
  {
   "cell_type": "code",
   "execution_count": 129,
   "metadata": {},
   "outputs": [
    {
     "data": {
      "text/plain": [
       "<matplotlib.axes._subplots.AxesSubplot at 0x141700eb0>"
      ]
     },
     "execution_count": 129,
     "metadata": {},
     "output_type": "execute_result"
    },
    {
     "data": {
      "image/png": "[encoded data removed]",
      "text/plain": [
       "<Figure size 432x288 with 1 Axes>"
      ]
     },
     "metadata": {
      "needs_background": "light"
     },
     "output_type": "display_data"
    }
   ],
   "source": [
    "pd.Series(sse).plot()"
   ]
  },
  {
   "cell_type": "markdown",
   "metadata": {},
   "source": [
    "## Hierarchical clustering\n",
    "\n",
    "Hierarchical is another common but powerful approach to clustering. The approach is called \"hierarchical\" because we aggregate or parition observations (more on that in a second) in stages, such that progressively larger (smaller) clusters are aggregated (partitioned), which as you'll see, give us a natural hierarchy of clusters. There are two main approaches to hierarchical clustering. \n",
    "\n",
    "  * Agglomerative approaches are bottom up; they start with each observation in its own cluster, and then progressively group clusters together using some notion of similarity. \n",
    "  * Divisive approaches are top down; they start with a all observations assigned to a single cluster, and then progressively partition clusters into smaller groups, again based on some notion of similarity.\n",
    "  \n",
    "Hierarchical clustering algorithms have a number of attractive features. Unlike k-means, we do not need to provide the algorithm with the number of clusters we want to find in advance. In addition, the hierarchical nature of the clusters produced often maps more closely on to real world problems, where we commonly see examples of nested categories (e.g., a mouse is a subcategory of mamal, which is a subset of animal). \n",
    "\n",
    "Hierarchical clustering works by comparing similarities among points. That means that when implementing hierarchical clustering, you'll need to think about what would be an appropriate distance function among your data points. Since our features are two continuous numbers (i.e., the nominate ideology scores), we'll just use Euclidean distances.\n",
    "\n",
    "The other thing you'll need to think about when performing hierarchical clustering on your data is how to compare the distances among sets of clusters as you build your tree. Specifically, how do you determine which cluster is closest to a focal cluster? In practice, there are a few common methods.\n",
    "\n",
    "  * ward minimizes the variance of the clusters being merged\n",
    "  * __Average linkage__ find clusters with the smallest average pairwise distance between points.\n",
    "  * __Complete linkage__ find clusters with the smallest maximum pairwise distance between points.\n",
    "  * __Single linkage__ find clusters with the smallest minimum pairwise distance between points.\n",
    "\n",
    "We'll start out with a little data preparation work. Let's dig in! "
   ]
  },
  {
   "cell_type": "code",
   "execution_count": 180,
   "metadata": {},
   "outputs": [
    {
     "data": {
      "text/html": [
       "<div>\n",
       "<style scoped>\n",
       "    .dataframe tbody tr th:only-of-type {\n",
       "        vertical-align: middle;\n",
       "    }\n",
       "\n",
       "    .dataframe tbody tr th {\n",
       "        vertical-align: top;\n",
       "    }\n",
       "\n",
       "    .dataframe thead th {\n",
       "        text-align: right;\n",
       "    }\n",
       "</style>\n",
       "<table border=\"1\" class=\"dataframe\">\n",
       "  <thead>\n",
       "    <tr style=\"text-align: right;\">\n",
       "      <th></th>\n",
       "      <th>icpsr</th>\n",
       "      <th>bioname</th>\n",
       "      <th>party_code</th>\n",
       "      <th>nominate_dim1</th>\n",
       "      <th>nominate_dim2</th>\n",
       "    </tr>\n",
       "  </thead>\n",
       "  <tbody>\n",
       "    <tr>\n",
       "      <th>48713</th>\n",
       "      <td>41704</td>\n",
       "      <td>STRANGE, Luther  Johnson, III</td>\n",
       "      <td>200</td>\n",
       "      <td>0.560</td>\n",
       "      <td>0.180</td>\n",
       "    </tr>\n",
       "    <tr>\n",
       "      <th>48714</th>\n",
       "      <td>41705</td>\n",
       "      <td>JONES, Gordon Douglas (Doug)</td>\n",
       "      <td>100</td>\n",
       "      <td>-0.091</td>\n",
       "      <td>0.207</td>\n",
       "    </tr>\n",
       "    <tr>\n",
       "      <th>48715</th>\n",
       "      <td>49700</td>\n",
       "      <td>SESSIONS, Jefferson Beauregard III (Jeff)</td>\n",
       "      <td>200</td>\n",
       "      <td>0.549</td>\n",
       "      <td>0.130</td>\n",
       "    </tr>\n",
       "    <tr>\n",
       "      <th>48716</th>\n",
       "      <td>94659</td>\n",
       "      <td>SHELBY, Richard C.</td>\n",
       "      <td>200</td>\n",
       "      <td>0.428</td>\n",
       "      <td>0.514</td>\n",
       "    </tr>\n",
       "    <tr>\n",
       "      <th>48717</th>\n",
       "      <td>40300</td>\n",
       "      <td>MURKOWSKI, Lisa</td>\n",
       "      <td>200</td>\n",
       "      <td>0.210</td>\n",
       "      <td>-0.290</td>\n",
       "    </tr>\n",
       "  </tbody>\n",
       "</table>\n",
       "</div>"
      ],
      "text/plain": [
       "       icpsr                                    bioname party_code  \\\n",
       "48713  41704              STRANGE, Luther  Johnson, III        200   \n",
       "48714  41705               JONES, Gordon Douglas (Doug)        100   \n",
       "48715  49700  SESSIONS, Jefferson Beauregard III (Jeff)        200   \n",
       "48716  94659                         SHELBY, Richard C.        200   \n",
       "48717  40300                            MURKOWSKI, Lisa        200   \n",
       "\n",
       "       nominate_dim1  nominate_dim2  \n",
       "48713          0.560          0.180  \n",
       "48714         -0.091          0.207  \n",
       "48715          0.549          0.130  \n",
       "48716          0.428          0.514  \n",
       "48717          0.210         -0.290  "
      ]
     },
     "execution_count": 180,
     "metadata": {},
     "output_type": "execute_result"
    }
   ],
   "source": [
    "# pull a subset\n",
    "member_ideology_df_subset = member_ideology_df[member_ideology_df.congress == 115]\n",
    "\n",
    "# drop congress column\n",
    "member_ideology_df_subset = member_ideology_df_subset.drop(columns=[\"congress\"])\n",
    "\n",
    "# check out the data\n",
    "member_ideology_df_subset.head()"
   ]
  },
  {
   "cell_type": "markdown",
   "metadata": {},
   "source": [
    "We're now ready to run our clustering using scikit-learn."
   ]
  },
  {
   "cell_type": "code",
   "execution_count": 181,
   "metadata": {},
   "outputs": [],
   "source": [
    "# load some packages\n",
    "from sklearn.cluster import AgglomerativeClustering"
   ]
  },
  {
   "cell_type": "code",
   "execution_count": 182,
   "metadata": {},
   "outputs": [],
   "source": [
    "# train our modelb\n",
    "clu = AgglomerativeClustering(distance_threshold=0, \n",
    "                              linkage=\"complete\", \n",
    "                              affinity=\"euclidean\",\n",
    "                              n_clusters=None).fit(member_ideology_df_subset[[\"nominate_dim1\", \"nominate_dim2\"]].values)"
   ]
  },
  {
   "cell_type": "markdown",
   "metadata": {},
   "source": [
    "We can visualize our clustering solution using a dendrogram. Turns out it is much easier to plot a dendrogram using `scipy` than it is using `scikit-learn`. For our purposes, `scipy` is just fine, so we'll go that route; that mean's we'll need to redo our clustering using `scipy`. If you want to stick with your clustering solution from `scikit-learn`, there is an example of how to plot a dendrogram in the [documentation](https://scikit-learn.org/stable/auto_examples/cluster/plot_agglomerative_dendrogram.html#sphx-glr-auto-examples-cluster-plot-agglomerative-dendrogram-py)."
   ]
  },
  {
   "cell_type": "code",
   "execution_count": 183,
   "metadata": {},
   "outputs": [],
   "source": [
    "# load some packages\n",
    "from scipy.cluster.hierarchy import linkage\n",
    "from scipy.cluster.hierarchy import dendrogram"
   ]
  },
  {
   "cell_type": "code",
   "execution_count": 184,
   "metadata": {},
   "outputs": [],
   "source": [
    "# redo our clustering solution\n",
    "clu_scipy = linkage(member_ideology_df_subset[[\"nominate_dim1\", \"nominate_dim2\"]].values, \n",
    "                    method=\"complete\", \n",
    "                    metric='euclidean')"
   ]
  },
  {
   "cell_type": "markdown",
   "metadata": {},
   "source": [
    "Now we're ready to actually plot the dendrogram."
   ]
  },
  {
   "cell_type": "code",
   "execution_count": 196,
   "metadata": {},
   "outputs": [
    {
     "data": {
      "image/png": "[encoded data removed]",
      "text/plain": [
       "<Figure size 1440x720 with 1 Axes>"
      ]
     },
     "metadata": {
      "needs_background": "light"
     },
     "output_type": "display_data"
    }
   ],
   "source": [
    "# set the size for the figure\n",
    "plt.figure(figsize=(20,10))\n",
    "\n",
    "# plot the dendrogram\n",
    "dn = dendrogram(clu_scipy, \n",
    "                leaf_font_size=12, \n",
    "                labels=member_ideology_df_subset[\"bioname\"].values)"
   ]
  },
  {
   "cell_type": "markdown",
   "metadata": {},
   "source": [
    "Note that in the dendrogram, the y-axis is the value of the distance metric between clusters."
   ]
  },
  {
   "cell_type": "markdown",
   "metadata": {},
   "source": [
    "# Further reading\n",
    "\n",
    "Here are some of the sources I have found helpful.\n",
    "\n",
    "  * Hastie, Trevor, Robert Tibshirani, and Jerome Friedman (2009) The elements of statistical learning: Data mining, inference, and prediction. New York: Springer.\n",
    "  * Manning, Christopher D., Prabhakar Raghavan, and Hinrich Schütze. (2008) Introduction to information retrieval. Cambridge: Cambridge University Press.\n",
    "  * Murphy, Kevin P. (2012) Machine learning: A probabilistic perspective. Camrbidge, MA: MIT Press."
   ]
  },
  {
   "cell_type": "markdown",
   "metadata": {},
   "source": [
    "# Exercises\n",
    "\n",
    "  * Using the unsupervised learning approaches above, repeat the clustering exercise for each distinct congress. How does the number of clusters obtained change over time?\n",
    "  * Conduct a similar exercise, but for the organizational form data (on patenting). How does the distribution of organizational forms change over time?\n",
    "  * Repeat the exercises above, but using raw vote data, rather than the ideology scores. There is some code below to help you get started. Note, however, that the methods we've used above typically will require numerical data as input, so you'll need to do something like convert the raw scores to many different 0/1 dummy variables. Hint: look up \"one-hot encoding.\"\n",
    "  * Revise the hierearchical clustering approach above to use a different linkage method. How do the results change."
   ]
  },
  {
   "cell_type": "markdown",
   "metadata": {},
   "source": [
    "# Appendix\n",
    "\n",
    "## Reshaping raw votes\n",
    "\n",
    "If you are interested in analyzing raw votes, some of the code below may be helpful."
   ]
  },
  {
   "cell_type": "code",
   "execution_count": 199,
   "metadata": {},
   "outputs": [
    {
     "data": {
      "text/html": [
       "<div>\n",
       "<style scoped>\n",
       "    .dataframe tbody tr th:only-of-type {\n",
       "        vertical-align: middle;\n",
       "    }\n",
       "\n",
       "    .dataframe tbody tr th {\n",
       "        vertical-align: top;\n",
       "    }\n",
       "\n",
       "    .dataframe thead th {\n",
       "        text-align: right;\n",
       "    }\n",
       "</style>\n",
       "<table border=\"1\" class=\"dataframe\">\n",
       "  <thead>\n",
       "    <tr style=\"text-align: right;\">\n",
       "      <th></th>\n",
       "      <th>icpsr</th>\n",
       "      <th>rollnumber</th>\n",
       "      <th>cast_code</th>\n",
       "    </tr>\n",
       "  </thead>\n",
       "  <tbody>\n",
       "    <tr>\n",
       "      <th>24336451</th>\n",
       "      <td>14009</td>\n",
       "      <td>1</td>\n",
       "      <td>1</td>\n",
       "    </tr>\n",
       "    <tr>\n",
       "      <th>24336452</th>\n",
       "      <td>14226</td>\n",
       "      <td>1</td>\n",
       "      <td>1</td>\n",
       "    </tr>\n",
       "    <tr>\n",
       "      <th>24336453</th>\n",
       "      <td>14307</td>\n",
       "      <td>1</td>\n",
       "      <td>6</td>\n",
       "    </tr>\n",
       "    <tr>\n",
       "      <th>24336454</th>\n",
       "      <td>14435</td>\n",
       "      <td>1</td>\n",
       "      <td>6</td>\n",
       "    </tr>\n",
       "    <tr>\n",
       "      <th>24336455</th>\n",
       "      <td>14503</td>\n",
       "      <td>1</td>\n",
       "      <td>1</td>\n",
       "    </tr>\n",
       "  </tbody>\n",
       "</table>\n",
       "</div>"
      ],
      "text/plain": [
       "          icpsr  rollnumber cast_code\n",
       "24336451  14009           1         1\n",
       "24336452  14226           1         1\n",
       "24336453  14307           1         6\n",
       "24336454  14435           1         6\n",
       "24336455  14503           1         1"
      ]
     },
     "execution_count": 199,
     "metadata": {},
     "output_type": "execute_result"
    }
   ],
   "source": [
    "# pull a subset\n",
    "member_vote_df_subset = member_vote_df[member_vote_df.congress == 115]\n",
    "\n",
    "# drop congress column\n",
    "member_vote_df_subset = member_vote_df_subset.drop(columns=[\"congress\"])\n",
    "\n",
    "# check out the data\n",
    "member_vote_df_subset.head()"
   ]
  },
  {
   "cell_type": "code",
   "execution_count": 198,
   "metadata": {},
   "outputs": [
    {
     "data": {
      "text/html": [
       "<div>\n",
       "<style scoped>\n",
       "    .dataframe tbody tr th:only-of-type {\n",
       "        vertical-align: middle;\n",
       "    }\n",
       "\n",
       "    .dataframe tbody tr th {\n",
       "        vertical-align: top;\n",
       "    }\n",
       "\n",
       "    .dataframe thead th {\n",
       "        text-align: right;\n",
       "    }\n",
       "</style>\n",
       "<table border=\"1\" class=\"dataframe\">\n",
       "  <thead>\n",
       "    <tr style=\"text-align: right;\">\n",
       "      <th>rollnumber</th>\n",
       "      <th>1</th>\n",
       "      <th>2</th>\n",
       "      <th>3</th>\n",
       "      <th>4</th>\n",
       "      <th>5</th>\n",
       "      <th>6</th>\n",
       "      <th>7</th>\n",
       "      <th>8</th>\n",
       "      <th>9</th>\n",
       "      <th>10</th>\n",
       "      <th>...</th>\n",
       "      <th>590</th>\n",
       "      <th>591</th>\n",
       "      <th>592</th>\n",
       "      <th>593</th>\n",
       "      <th>594</th>\n",
       "      <th>595</th>\n",
       "      <th>596</th>\n",
       "      <th>597</th>\n",
       "      <th>598</th>\n",
       "      <th>599</th>\n",
       "    </tr>\n",
       "    <tr>\n",
       "      <th>icpsr</th>\n",
       "      <th></th>\n",
       "      <th></th>\n",
       "      <th></th>\n",
       "      <th></th>\n",
       "      <th></th>\n",
       "      <th></th>\n",
       "      <th></th>\n",
       "      <th></th>\n",
       "      <th></th>\n",
       "      <th></th>\n",
       "      <th></th>\n",
       "      <th></th>\n",
       "      <th></th>\n",
       "      <th></th>\n",
       "      <th></th>\n",
       "      <th></th>\n",
       "      <th></th>\n",
       "      <th></th>\n",
       "      <th></th>\n",
       "      <th></th>\n",
       "      <th></th>\n",
       "    </tr>\n",
       "  </thead>\n",
       "  <tbody>\n",
       "    <tr>\n",
       "      <th>14009</th>\n",
       "      <td>1</td>\n",
       "      <td>6</td>\n",
       "      <td>6</td>\n",
       "      <td>6</td>\n",
       "      <td>6</td>\n",
       "      <td>6</td>\n",
       "      <td>6</td>\n",
       "      <td>6</td>\n",
       "      <td>1</td>\n",
       "      <td>6</td>\n",
       "      <td>...</td>\n",
       "      <td>NaN</td>\n",
       "      <td>NaN</td>\n",
       "      <td>NaN</td>\n",
       "      <td>NaN</td>\n",
       "      <td>NaN</td>\n",
       "      <td>NaN</td>\n",
       "      <td>NaN</td>\n",
       "      <td>NaN</td>\n",
       "      <td>NaN</td>\n",
       "      <td>NaN</td>\n",
       "    </tr>\n",
       "    <tr>\n",
       "      <th>14226</th>\n",
       "      <td>1</td>\n",
       "      <td>6</td>\n",
       "      <td>6</td>\n",
       "      <td>6</td>\n",
       "      <td>6</td>\n",
       "      <td>6</td>\n",
       "      <td>6</td>\n",
       "      <td>6</td>\n",
       "      <td>1</td>\n",
       "      <td>6</td>\n",
       "      <td>...</td>\n",
       "      <td>1</td>\n",
       "      <td>6</td>\n",
       "      <td>1</td>\n",
       "      <td>6</td>\n",
       "      <td>6</td>\n",
       "      <td>6</td>\n",
       "      <td>1</td>\n",
       "      <td>1</td>\n",
       "      <td>1</td>\n",
       "      <td>1</td>\n",
       "    </tr>\n",
       "    <tr>\n",
       "      <th>14307</th>\n",
       "      <td>6</td>\n",
       "      <td>1</td>\n",
       "      <td>6</td>\n",
       "      <td>1</td>\n",
       "      <td>6</td>\n",
       "      <td>1</td>\n",
       "      <td>1</td>\n",
       "      <td>1</td>\n",
       "      <td>6</td>\n",
       "      <td>1</td>\n",
       "      <td>...</td>\n",
       "      <td>6</td>\n",
       "      <td>1</td>\n",
       "      <td>1</td>\n",
       "      <td>6</td>\n",
       "      <td>6</td>\n",
       "      <td>6</td>\n",
       "      <td>1</td>\n",
       "      <td>1</td>\n",
       "      <td>1</td>\n",
       "      <td>6</td>\n",
       "    </tr>\n",
       "    <tr>\n",
       "      <th>14435</th>\n",
       "      <td>6</td>\n",
       "      <td>1</td>\n",
       "      <td>6</td>\n",
       "      <td>1</td>\n",
       "      <td>6</td>\n",
       "      <td>1</td>\n",
       "      <td>1</td>\n",
       "      <td>1</td>\n",
       "      <td>6</td>\n",
       "      <td>1</td>\n",
       "      <td>...</td>\n",
       "      <td>6</td>\n",
       "      <td>1</td>\n",
       "      <td>1</td>\n",
       "      <td>6</td>\n",
       "      <td>6</td>\n",
       "      <td>6</td>\n",
       "      <td>1</td>\n",
       "      <td>1</td>\n",
       "      <td>1</td>\n",
       "      <td>6</td>\n",
       "    </tr>\n",
       "    <tr>\n",
       "      <th>14503</th>\n",
       "      <td>1</td>\n",
       "      <td>6</td>\n",
       "      <td>6</td>\n",
       "      <td>6</td>\n",
       "      <td>6</td>\n",
       "      <td>6</td>\n",
       "      <td>6</td>\n",
       "      <td>6</td>\n",
       "      <td>1</td>\n",
       "      <td>6</td>\n",
       "      <td>...</td>\n",
       "      <td>1</td>\n",
       "      <td>6</td>\n",
       "      <td>1</td>\n",
       "      <td>6</td>\n",
       "      <td>6</td>\n",
       "      <td>6</td>\n",
       "      <td>1</td>\n",
       "      <td>1</td>\n",
       "      <td>1</td>\n",
       "      <td>9</td>\n",
       "    </tr>\n",
       "    <tr>\n",
       "      <th>...</th>\n",
       "      <td>...</td>\n",
       "      <td>...</td>\n",
       "      <td>...</td>\n",
       "      <td>...</td>\n",
       "      <td>...</td>\n",
       "      <td>...</td>\n",
       "      <td>...</td>\n",
       "      <td>...</td>\n",
       "      <td>...</td>\n",
       "      <td>...</td>\n",
       "      <td>...</td>\n",
       "      <td>...</td>\n",
       "      <td>...</td>\n",
       "      <td>...</td>\n",
       "      <td>...</td>\n",
       "      <td>...</td>\n",
       "      <td>...</td>\n",
       "      <td>...</td>\n",
       "      <td>...</td>\n",
       "      <td>...</td>\n",
       "      <td>...</td>\n",
       "    </tr>\n",
       "    <tr>\n",
       "      <th>49700</th>\n",
       "      <td>1</td>\n",
       "      <td>6</td>\n",
       "      <td>6</td>\n",
       "      <td>6</td>\n",
       "      <td>9</td>\n",
       "      <td>9</td>\n",
       "      <td>9</td>\n",
       "      <td>9</td>\n",
       "      <td>9</td>\n",
       "      <td>9</td>\n",
       "      <td>...</td>\n",
       "      <td>NaN</td>\n",
       "      <td>NaN</td>\n",
       "      <td>NaN</td>\n",
       "      <td>NaN</td>\n",
       "      <td>NaN</td>\n",
       "      <td>NaN</td>\n",
       "      <td>NaN</td>\n",
       "      <td>NaN</td>\n",
       "      <td>NaN</td>\n",
       "      <td>NaN</td>\n",
       "    </tr>\n",
       "    <tr>\n",
       "      <th>49703</th>\n",
       "      <td>1</td>\n",
       "      <td>6</td>\n",
       "      <td>6</td>\n",
       "      <td>1</td>\n",
       "      <td>1</td>\n",
       "      <td>1</td>\n",
       "      <td>6</td>\n",
       "      <td>1</td>\n",
       "      <td>1</td>\n",
       "      <td>1</td>\n",
       "      <td>...</td>\n",
       "      <td>1</td>\n",
       "      <td>1</td>\n",
       "      <td>1</td>\n",
       "      <td>1</td>\n",
       "      <td>6</td>\n",
       "      <td>1</td>\n",
       "      <td>1</td>\n",
       "      <td>1</td>\n",
       "      <td>6</td>\n",
       "      <td>1</td>\n",
       "    </tr>\n",
       "    <tr>\n",
       "      <th>49706</th>\n",
       "      <td>1</td>\n",
       "      <td>6</td>\n",
       "      <td>6</td>\n",
       "      <td>6</td>\n",
       "      <td>6</td>\n",
       "      <td>6</td>\n",
       "      <td>6</td>\n",
       "      <td>6</td>\n",
       "      <td>1</td>\n",
       "      <td>6</td>\n",
       "      <td>...</td>\n",
       "      <td>1</td>\n",
       "      <td>6</td>\n",
       "      <td>6</td>\n",
       "      <td>1</td>\n",
       "      <td>1</td>\n",
       "      <td>1</td>\n",
       "      <td>6</td>\n",
       "      <td>1</td>\n",
       "      <td>6</td>\n",
       "      <td>1</td>\n",
       "    </tr>\n",
       "    <tr>\n",
       "      <th>94659</th>\n",
       "      <td>1</td>\n",
       "      <td>6</td>\n",
       "      <td>6</td>\n",
       "      <td>6</td>\n",
       "      <td>6</td>\n",
       "      <td>6</td>\n",
       "      <td>6</td>\n",
       "      <td>6</td>\n",
       "      <td>1</td>\n",
       "      <td>6</td>\n",
       "      <td>...</td>\n",
       "      <td>1</td>\n",
       "      <td>6</td>\n",
       "      <td>1</td>\n",
       "      <td>1</td>\n",
       "      <td>1</td>\n",
       "      <td>1</td>\n",
       "      <td>6</td>\n",
       "      <td>1</td>\n",
       "      <td>1</td>\n",
       "      <td>1</td>\n",
       "    </tr>\n",
       "    <tr>\n",
       "      <th>99912</th>\n",
       "      <td>NaN</td>\n",
       "      <td>NaN</td>\n",
       "      <td>NaN</td>\n",
       "      <td>NaN</td>\n",
       "      <td>NaN</td>\n",
       "      <td>NaN</td>\n",
       "      <td>NaN</td>\n",
       "      <td>NaN</td>\n",
       "      <td>NaN</td>\n",
       "      <td>NaN</td>\n",
       "      <td>...</td>\n",
       "      <td>NaN</td>\n",
       "      <td>NaN</td>\n",
       "      <td>NaN</td>\n",
       "      <td>NaN</td>\n",
       "      <td>NaN</td>\n",
       "      <td>NaN</td>\n",
       "      <td>NaN</td>\n",
       "      <td>NaN</td>\n",
       "      <td>NaN</td>\n",
       "      <td>NaN</td>\n",
       "    </tr>\n",
       "  </tbody>\n",
       "</table>\n",
       "<p>106 rows × 599 columns</p>\n",
       "</div>"
      ],
      "text/plain": [
       "rollnumber  1    2    3    4    5    6    7    8    9    10   ...  590  591  \\\n",
       "icpsr                                                         ...             \n",
       "14009         1    6    6    6    6    6    6    6    1    6  ...  NaN  NaN   \n",
       "14226         1    6    6    6    6    6    6    6    1    6  ...    1    6   \n",
       "14307         6    1    6    1    6    1    1    1    6    1  ...    6    1   \n",
       "14435         6    1    6    1    6    1    1    1    6    1  ...    6    1   \n",
       "14503         1    6    6    6    6    6    6    6    1    6  ...    1    6   \n",
       "...         ...  ...  ...  ...  ...  ...  ...  ...  ...  ...  ...  ...  ...   \n",
       "49700         1    6    6    6    9    9    9    9    9    9  ...  NaN  NaN   \n",
       "49703         1    6    6    1    1    1    6    1    1    1  ...    1    1   \n",
       "49706         1    6    6    6    6    6    6    6    1    6  ...    1    6   \n",
       "94659         1    6    6    6    6    6    6    6    1    6  ...    1    6   \n",
       "99912       NaN  NaN  NaN  NaN  NaN  NaN  NaN  NaN  NaN  NaN  ...  NaN  NaN   \n",
       "\n",
       "rollnumber  592  593  594  595  596  597  598  599  \n",
       "icpsr                                               \n",
       "14009       NaN  NaN  NaN  NaN  NaN  NaN  NaN  NaN  \n",
       "14226         1    6    6    6    1    1    1    1  \n",
       "14307         1    6    6    6    1    1    1    6  \n",
       "14435         1    6    6    6    1    1    1    6  \n",
       "14503         1    6    6    6    1    1    1    9  \n",
       "...         ...  ...  ...  ...  ...  ...  ...  ...  \n",
       "49700       NaN  NaN  NaN  NaN  NaN  NaN  NaN  NaN  \n",
       "49703         1    1    6    1    1    1    6    1  \n",
       "49706         6    1    1    1    6    1    6    1  \n",
       "94659         1    1    1    1    6    1    1    1  \n",
       "99912       NaN  NaN  NaN  NaN  NaN  NaN  NaN  NaN  \n",
       "\n",
       "[106 rows x 599 columns]"
      ]
     },
     "execution_count": 198,
     "metadata": {},
     "output_type": "execute_result"
    }
   ],
   "source": [
    "# convert to wide dataframe\n",
    "member_vote_df_subset.pivot(index=\"icpsr\", columns=\"rollnumber\", values=\"cast_code\")"
   ]
  }
 ],
 "metadata": {
  "kernelspec": {
   "display_name": "envpyc_kernel",
   "language": "python",
   "name": "envpyc_kernel"
  },
  "language_info": {
   "codemirror_mode": {
    "name": "ipython",
    "version": 3
   },
   "file_extension": ".py",
   "mimetype": "text/x-python",
   "name": "python",
   "nbconvert_exporter": "python",
   "pygments_lexer": "ipython3",
   "version": "3.8.1"
  }
 },
 "nbformat": 4,
 "nbformat_minor": 4
}
