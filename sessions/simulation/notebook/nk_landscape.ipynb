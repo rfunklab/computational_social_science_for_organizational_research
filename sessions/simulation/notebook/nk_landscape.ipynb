{
 "cells": [
  {
   "cell_type": "markdown",
   "metadata": {},
   "source": [
    "# NK landscape\n",
    "\n",
    "Generate a simple NK landscape.\n",
    "\n",
    "# Preliminaries"
   ]
  },
  {
   "cell_type": "code",
   "execution_count": 1,
   "metadata": {},
   "outputs": [],
   "source": [
    "# load packages\n",
    "import numpy as np"
   ]
  },
  {
   "cell_type": "code",
   "execution_count": 11,
   "metadata": {},
   "outputs": [
    {
     "data": {
      "text/plain": [
       "[[0, 1, 2],\n",
       " [1, 2, 3],\n",
       " [2, 3, 4],\n",
       " [3, 4, 5],\n",
       " [4, 5, 6],\n",
       " [5, 6, 7],\n",
       " [6, 7, 8],\n",
       " [7, 8, 9],\n",
       " [8, 9, 0],\n",
       " [9, 0, 1]]"
      ]
     },
     "execution_count": 11,
     "metadata": {},
     "output_type": "execute_result"
    }
   ],
   "source": [
    "N=10\n",
    "K=2\n",
    "lscape = []\n",
    "neighbors = []\n",
    "for i in range(0,N):\n",
    "  lscape.append(np.random.rand(2**(K+1)))\n",
    "  neighbors.append([(i+j) % N for j in range(0,K+1)])\n",
    "lscape \n",
    "neighbors"
   ]
  },
  {
   "cell_type": "code",
   "execution_count": null,
   "metadata": {},
   "outputs": [
    {
     "data": {
      "text/plain": [
       "0.39999952067540867"
      ]
     },
     "execution_count": 42,
     "metadata": {},
     "output_type": "execute_result"
    }
   ],
   "source": [
    "bitstring = np.random.randint(0, 2, N).tolist()\n",
    "fitness = []\n",
    "for i in range(len(bitstring)):\n",
    "  neighborbits = [bitstring[j] for j in neighbors[i]]\n",
    "  fitness.append(lscape[i][int(\"\".join(str(b) for b in neighborbits),2)])\n",
    "sum(fitness)/N"
   ]
  }
 ],
 "metadata": {
  "kernelspec": {
   "display_name": "envpyc",
   "language": "python",
   "name": "python3"
  },
  "language_info": {
   "codemirror_mode": {
    "name": "ipython",
    "version": 3
   },
   "file_extension": ".py",
   "mimetype": "text/x-python",
   "name": "python",
   "nbconvert_exporter": "python",
   "pygments_lexer": "ipython3",
   "version": "3.11.6"
  }
 },
 "nbformat": 4,
 "nbformat_minor": 2
}
