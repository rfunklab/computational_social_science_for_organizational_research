{
 "cells": [
  {
   "cell_type": "markdown",
   "metadata": {},
   "source": [
    "# Computational Social Science for Organizational Research\n",
    "## Introduction to Python: A Crash Course\n",
    "\n",
    "## Roadmap\n",
    " * Why Python?\n",
    " * What is Python?\n",
    " * Essential resources\n",
    " * Preliminaries\n",
    " * \"Hello, World!\"\n",
    " * Variables, types, data structures, oh my!\n",
    " * Conditional operators\n",
    " * Loops\n",
    " * Functions\n",
    " * File input/output\n",
    " * Packages\n",
    " * Exercises\n",
    " \n",
    "In this session, you'll get a crash course to the Python programming language. People have been using computers to study organizations for a long time, and so there are many different programs, packages, and programming languages that you might consider using. In the end of the day, the best tool is the one that you feel comfortable using and that helps you make progress in your research. Having said that, I would also recommend that every budding computational social scientist consider making Python a central tool in their box."
   ]
  },
  {
   "cell_type": "markdown",
   "metadata": {},
   "source": [
    "## Why Python?\n",
    "\n",
    "__Community.__ Python is one of the most popular programming languages. That means there's a big community of developers who are regularly creating both general purpose and highly specialized packages for computational social science. In addition, there are many people who can help you when you have questions (e.g., via Stack Overflow).\n",
    "\n",
    "__Flexibility.__ Because Python is a general-purpose programming language, it's easy to write programs that implement measures or conduct analyses that are not implemented in existing libraries. In addition, as you learn how to do computational analyses of social and organizational phenomenon in Python, you'll also be learning about Python more generally, meaning you'll be able to use the language for all sorts of things beyond social computational social science."
   ]
  },
  {
   "cell_type": "markdown",
   "metadata": {},
   "source": [
    "## What is Python?\n",
    "\n",
    "* General purpose __programming language__\n",
    "* Interpreted, not compiled\n",
    "* Object oriented\n",
    "* Named after __Monty Python__\n",
    "\n",
    "![](images/monty_python.jpg)\n",
    "\n",
    "[This](https://www.youtube.com/watch?v=ycKNt0MhTkk) is why you'll often see __spam__ (the food) references in Python code."
   ]
  },
  {
   "cell_type": "markdown",
   "metadata": {},
   "source": [
    "## Essential resources\n",
    "\n",
    "The documentation is your friend! There is a tendency for folks who are just getting started to shy away from documentation, and admittedly, your average programming language instruction manual can feel intimidating. But Python's documentation is great, with many examples that you can cut and paste into the interpreter (more on that next) to quickly get your hands dirty. There is also an official Python tutorial.\n",
    "\n",
    "  * [Python 3 documentation](https://docs.python.org/3/index.html)\n",
    "  * [The Python Tutorial](https://docs.python.org/3/tutorial/index.html)\n",
    "  * [The Python Standard Library](https://docs.python.org/3/library/index.html#library-index)"
   ]
  },
  {
   "cell_type": "markdown",
   "metadata": {},
   "source": [
    "## Preliminaries\n",
    "\n",
    "When it comes to __writing and running programs__ in Python, you have a few different options.\n",
    "\n",
    "* Write code in a text editor and run using `Terminal` (macOS) or `Command Prompt` (Windows) (this is the best general purpose approach).\n",
    "* Write code directly in the Python __interpreter__ (this is most useful for quickly testing something or ver short programs)\n",
    "* Write code in [Jupyter Notebook](http://jupyter.org/) (this is a great approach for data analysis, but can be clunky for other things).\n",
    "\n",
    "Overall, there's no right or best way; just __whatever is most comfortable__ and suits your needs."
   ]
  },
  {
   "cell_type": "markdown",
   "metadata": {},
   "source": [
    "## \"Hello, World!\"\n",
    "\n",
    "No programming tutorial would be complete without a __hello world__ program. Here's all you need in Python. "
   ]
  },
  {
   "cell_type": "code",
   "execution_count": 1,
   "metadata": {},
   "outputs": [
    {
     "name": "stdout",
     "output_type": "stream",
     "text": [
      "Hello, World!\n"
     ]
    }
   ],
   "source": [
    "print(\"Hello, World!\")"
   ]
  },
  {
   "cell_type": "markdown",
   "metadata": {},
   "source": [
    "## Variables, types, data structures, oh my!\n",
    "You'll be using variables all the time. You probably already have a good idea of what a variable is from math, statistics, and any prior programming experience. We can define variables quite easily in Python."
   ]
  },
  {
   "cell_type": "code",
   "execution_count": 2,
   "metadata": {},
   "outputs": [],
   "source": [
    "foo = 0\n",
    "bar = \"Hello, World!\"\n",
    "baz = 3.14159"
   ]
  },
  {
   "cell_type": "markdown",
   "metadata": {},
   "source": [
    "One of the things that makes Python so useful right out of the box are its __native types,__ so we're going to spend a while going through them. A few things to note. First, Python uses ___dynamic typing__, meaning that variable types are not specifically declared and are instead inferred from the objects they represent."
   ]
  },
  {
   "cell_type": "code",
   "execution_count": 3,
   "metadata": {},
   "outputs": [],
   "source": [
    "foo = 0\n",
    "foo = \"bar\""
   ]
  },
  {
   "cell_type": "markdown",
   "metadata": {},
   "source": [
    "Compare that to the equivalent program in `C`, which uses ___static typing__:\n",
    "\n",
    "```c\n",
    "#include <stdio.h>\n",
    "int main()\n",
    "{\n",
    "   int foo = 0;\n",
    "   foo = \"bar\";\n",
    "   return 0;\n",
    "}\n",
    "```\n",
    "...in which the compiler gets angry. \n",
    "\n",
    "### Numbers\n",
    "Numbers are pretty straightforward."
   ]
  },
  {
   "cell_type": "code",
   "execution_count": 4,
   "metadata": {},
   "outputs": [],
   "source": [
    "# initialize\n",
    "foo = 3\n",
    "bar = 4\n",
    "baz = foo/bar # be careful if you run this in Python 2\n",
    "foo = 3.0\n",
    "bar = 4.0"
   ]
  },
  {
   "cell_type": "markdown",
   "metadata": {},
   "source": [
    "We can also perform a operations on variables (and numbers)."
   ]
  },
  {
   "cell_type": "code",
   "execution_count": 5,
   "metadata": {},
   "outputs": [
    {
     "data": {
      "text/plain": [
       "0.75"
      ]
     },
     "execution_count": 5,
     "metadata": {},
     "output_type": "execute_result"
    }
   ],
   "source": [
    "foo/bar"
   ]
  },
  {
   "cell_type": "code",
   "execution_count": 6,
   "metadata": {},
   "outputs": [
    {
     "data": {
      "text/plain": [
       "1.0"
      ]
     },
     "execution_count": 6,
     "metadata": {},
     "output_type": "execute_result"
    }
   ],
   "source": [
    "bar % foo"
   ]
  },
  {
   "cell_type": "code",
   "execution_count": 7,
   "metadata": {},
   "outputs": [
    {
     "data": {
      "text/plain": [
       "7.0"
      ]
     },
     "execution_count": 7,
     "metadata": {},
     "output_type": "execute_result"
    }
   ],
   "source": [
    "foo + bar"
   ]
  },
  {
   "cell_type": "code",
   "execution_count": 8,
   "metadata": {},
   "outputs": [
    {
     "data": {
      "text/plain": [
       "12.0"
      ]
     },
     "execution_count": 8,
     "metadata": {},
     "output_type": "execute_result"
    }
   ],
   "source": [
    "foo * bar"
   ]
  },
  {
   "cell_type": "code",
   "execution_count": 9,
   "metadata": {},
   "outputs": [
    {
     "data": {
      "text/plain": [
       "81.0"
      ]
     },
     "execution_count": 9,
     "metadata": {},
     "output_type": "execute_result"
    }
   ],
   "source": [
    "foo**bar"
   ]
  },
  {
   "cell_type": "markdown",
   "metadata": {},
   "source": [
    "### Strings\n",
    "Strings are a bit more interesting."
   ]
  },
  {
   "cell_type": "code",
   "execution_count": 10,
   "metadata": {},
   "outputs": [],
   "source": [
    "# initialize\n",
    "foo = \"bar\""
   ]
  },
  {
   "cell_type": "code",
   "execution_count": 11,
   "metadata": {},
   "outputs": [],
   "source": [
    "# multiline\n",
    "foo = \"\"\"this is my\n",
    "multiline\n",
    "string\"\"\""
   ]
  },
  {
   "cell_type": "code",
   "execution_count": 12,
   "metadata": {},
   "outputs": [
    {
     "data": {
      "text/plain": [
       "['this is my', 'multiline', 'string']"
      ]
     },
     "execution_count": 12,
     "metadata": {},
     "output_type": "execute_result"
    }
   ],
   "source": [
    "# string to list\n",
    "foo.splitlines()"
   ]
  },
  {
   "cell_type": "code",
   "execution_count": 13,
   "metadata": {},
   "outputs": [],
   "source": [
    "# save as new single line string\n",
    "foo_clean = \" \".join(foo.splitlines())"
   ]
  },
  {
   "cell_type": "code",
   "execution_count": 14,
   "metadata": {},
   "outputs": [],
   "source": [
    "# clean up strings\n",
    "foo = \"  I hate leading and trailing spaces    \".strip()"
   ]
  },
  {
   "cell_type": "code",
   "execution_count": 15,
   "metadata": {},
   "outputs": [
    {
     "data": {
      "text/plain": [
       "'People say I use too many exclamation points'"
      ]
     },
     "execution_count": 15,
     "metadata": {},
     "output_type": "execute_result"
    }
   ],
   "source": [
    "\"People say I use too many exclamation points!!!\".strip(\"!\")"
   ]
  },
  {
   "cell_type": "code",
   "execution_count": 16,
   "metadata": {},
   "outputs": [
    {
     "data": {
      "text/plain": [
       "'00133'"
      ]
     },
     "execution_count": 16,
     "metadata": {},
     "output_type": "execute_result"
    }
   ],
   "source": [
    "\"133\".zfill(5) # great for zipcodes"
   ]
  },
  {
   "cell_type": "code",
   "execution_count": 17,
   "metadata": {},
   "outputs": [
    {
     "data": {
      "text/plain": [
       "'55455'"
      ]
     },
     "execution_count": 17,
     "metadata": {},
     "output_type": "execute_result"
    }
   ],
   "source": [
    "\"55455\".zfill(5) # great for zipcodes"
   ]
  },
  {
   "cell_type": "code",
   "execution_count": 18,
   "metadata": {},
   "outputs": [
    {
     "data": {
      "text/plain": [
       "'HELLO WORLD'"
      ]
     },
     "execution_count": 18,
     "metadata": {},
     "output_type": "execute_result"
    }
   ],
   "source": [
    "# also great for cleaning and standardization\n",
    "\"hello world\".upper()"
   ]
  },
  {
   "cell_type": "code",
   "execution_count": 19,
   "metadata": {},
   "outputs": [
    {
     "data": {
      "text/plain": [
       "'hello world'"
      ]
     },
     "execution_count": 19,
     "metadata": {},
     "output_type": "execute_result"
    }
   ],
   "source": [
    "\"HeLlO wOrLd\".lower()"
   ]
  },
  {
   "cell_type": "markdown",
   "metadata": {},
   "source": [
    "### Lists\n",
    "\n",
    "A `list` is an ordered set of elements, sometimes called, in other languages, an `array`. Note that lists are __ordered__, the significance of which will become clearer when we look at other data types."
   ]
  },
  {
   "cell_type": "code",
   "execution_count": 20,
   "metadata": {},
   "outputs": [
    {
     "data": {
      "text/plain": [
       "True"
      ]
     },
     "execution_count": 20,
     "metadata": {},
     "output_type": "execute_result"
    }
   ],
   "source": [
    "# initialize some lists\n",
    "a = []\n",
    "b = list()\n",
    "a == b # prints True"
   ]
  },
  {
   "cell_type": "code",
   "execution_count": 21,
   "metadata": {},
   "outputs": [
    {
     "data": {
      "text/plain": [
       "'turning'"
      ]
     },
     "execution_count": 21,
     "metadata": {},
     "output_type": "execute_result"
    }
   ],
   "source": [
    "# add some elements\n",
    "a.append(\"foo\")\n",
    "a.append(\"bar\")\n",
    "\n",
    "# we can also add lists to list\n",
    "[1,2,3].append([4,5,6])\n",
    "[1,2,3].extend([4,5,6])\n",
    "\n",
    "# we can access list elements using slice notation, which is very cool/useful\n",
    "foo = \"turning and turning in the widening gyre\".split()\n",
    "foo[0]"
   ]
  },
  {
   "cell_type": "code",
   "execution_count": 22,
   "metadata": {},
   "outputs": [
    {
     "data": {
      "text/plain": [
       "'and'"
      ]
     },
     "execution_count": 22,
     "metadata": {},
     "output_type": "execute_result"
    }
   ],
   "source": [
    "foo[1]"
   ]
  },
  {
   "cell_type": "code",
   "execution_count": 23,
   "metadata": {},
   "outputs": [
    {
     "data": {
      "text/plain": [
       "'gyre'"
      ]
     },
     "execution_count": 23,
     "metadata": {},
     "output_type": "execute_result"
    }
   ],
   "source": [
    "foo[-1]"
   ]
  },
  {
   "cell_type": "code",
   "execution_count": 24,
   "metadata": {},
   "outputs": [
    {
     "data": {
      "text/plain": [
       "['in']"
      ]
     },
     "execution_count": 24,
     "metadata": {},
     "output_type": "execute_result"
    }
   ],
   "source": [
    "foo[3:4]"
   ]
  },
  {
   "cell_type": "code",
   "execution_count": 25,
   "metadata": {},
   "outputs": [
    {
     "data": {
      "text/plain": [
       "2"
      ]
     },
     "execution_count": 25,
     "metadata": {},
     "output_type": "execute_result"
    }
   ],
   "source": [
    "# counting\n",
    "foo.count(\"turning\")"
   ]
  },
  {
   "cell_type": "code",
   "execution_count": 26,
   "metadata": {},
   "outputs": [],
   "source": [
    "# sorting\n",
    "foo.sort()\n",
    "foo.sort(reverse=True)\n",
    "\n",
    "# deleting\n",
    "del foo[0]"
   ]
  },
  {
   "cell_type": "markdown",
   "metadata": {},
   "source": [
    "There's a lot __more you can do with lists,__ most of which is a bit outside our scope today. But if you're curious, do some digging on `list` `comprehensions`."
   ]
  },
  {
   "cell_type": "code",
   "execution_count": 27,
   "metadata": {},
   "outputs": [
    {
     "data": {
      "text/plain": [
       "',  buckle my shoe. ,  shut the door.'"
      ]
     },
     "execution_count": 27,
     "metadata": {},
     "output_type": "execute_result"
    }
   ],
   "source": [
    "foo = \"1, 2 buckle my shoe. 3, 4 shut the door.\"\n",
    "\n",
    "# what if we want to remove all the numbers?\n",
    "\"\".join([t for t in foo if not t.isdigit()])"
   ]
  },
  {
   "cell_type": "markdown",
   "metadata": {},
   "source": [
    "### Tuples\n",
    "\n",
    "A `tuple` is a lot like a list, but it is __immutable__, meaning that once defined, it cannot be changed."
   ]
  },
  {
   "cell_type": "code",
   "execution_count": 28,
   "metadata": {},
   "outputs": [],
   "source": [
    "# initialize some tuples\n",
    "a = tuple(range(0,100))\n",
    "b = (1, 2, 'a', 'b')"
   ]
  },
  {
   "cell_type": "markdown",
   "metadata": {},
   "source": [
    "### Dictionaries\n",
    "\n",
    "One of the most powerful data types in Python is the __dictionary.__ It's literally a mini database. The important thing to remember about dictionaries is that they create a 1 to 1 mapping of keys to values. That means that you cannot repeat the same key more than once."
   ]
  },
  {
   "cell_type": "code",
   "execution_count": 29,
   "metadata": {},
   "outputs": [],
   "source": [
    "d = {}\n",
    "d[\"foo\"] = 1\n",
    "d[\"spam\"] = 2\n",
    "d[7] = \"baz\""
   ]
  },
  {
   "cell_type": "markdown",
   "metadata": {},
   "source": [
    "In the dictionary above, we have the following key-value pairs:\n",
    "\n",
    "| Key           | Value         | \n",
    "| ------------- | ------------- |\n",
    "| foo           | 1             | \n",
    "| spam          | 2             |\n",
    "| 7             | baz           |\n",
    "\n",
    "Notice that our keys and values can be different data types. Moving on, sometimes it's also useful to make __dictionaries of dictionaries.__"
   ]
  },
  {
   "cell_type": "code",
   "execution_count": 30,
   "metadata": {},
   "outputs": [
    {
     "name": "stdout",
     "output_type": "stream",
     "text": [
      "0 University of Minnesota Minneapolis 51147\n",
      "1 University of Michigan Ann Arbor 44718\n"
     ]
    },
    {
     "data": {
      "text/plain": [
       "dict_values([{'name': 'University of Minnesota', 'city': 'Minneapolis', 'students': 51147}, {'name': 'University of Michigan', 'city': 'Ann Arbor', 'students': 44718}])"
      ]
     },
     "execution_count": 30,
     "metadata": {},
     "output_type": "execute_result"
    }
   ],
   "source": [
    "universities = {}\n",
    "universities[0] = {\"name\": \"University of Minnesota\", \"city\": \"Minneapolis\", \"students\": 51147}\n",
    "universities[1] = {\"name\": \"University of Michigan\", \"city\": \"Ann Arbor\", \"students\": 44718}\n",
    "\n",
    "# iterate over\n",
    "for id, data in universities.items():\n",
    "  print(id, data[\"name\"], data[\"city\"], data[\"students\"])\n",
    "\n",
    "# we can access keys and values separately\n",
    "universities.keys()\n",
    "universities.values()"
   ]
  },
  {
   "cell_type": "markdown",
   "metadata": {},
   "source": [
    "Python has a built in package that can let us __print out our dictionary__ in a nice, human readable format."
   ]
  },
  {
   "cell_type": "code",
   "execution_count": 31,
   "metadata": {},
   "outputs": [
    {
     "name": "stdout",
     "output_type": "stream",
     "text": [
      "{0: {'city': 'Minneapolis',\n",
      "     'name': 'University of Minnesota',\n",
      "     'students': 51147},\n",
      " 1: {'city': 'Ann Arbor', 'name': 'University of Michigan', 'students': 44718}}\n"
     ]
    }
   ],
   "source": [
    "from pprint import pprint\n",
    "pprint(universities)"
   ]
  },
  {
   "cell_type": "markdown",
   "metadata": {},
   "source": [
    "The following is a really simple illustration of how dictionaries can be useful for some aspects of __data cleaning__."
   ]
  },
  {
   "cell_type": "code",
   "execution_count": 32,
   "metadata": {},
   "outputs": [
    {
     "name": "stdout",
     "output_type": "stream",
     "text": [
      "Microsoft Corp.\n",
      "Yahoo Inc.\n",
      "New York Times, Inc.\n"
     ]
    }
   ],
   "source": [
    "# create a dictionary of corporate abbreviations\n",
    "ABBREVIATIONS = {\"corporation\": \"Corp.\",\n",
    "                 \"incorporated\": \"Inc.\"}\n",
    "\n",
    "# now standardize some company names\n",
    "company_names = (\"Microsoft Corporation\", \"Yahoo Incorporated\", \"New York Times, Inc.\")\n",
    "\n",
    "for company_name in company_names:\n",
    "  clean_name = []\n",
    "  for token in company_name.split():\n",
    "    if token.lower() in ABBREVIATIONS:\n",
    "      clean_name.append(ABBREVIATIONS[token.lower()])\n",
    "    else:\n",
    "      clean_name.append(token)\n",
    "  print(\" \".join(clean_name))"
   ]
  },
  {
   "cell_type": "markdown",
   "metadata": {},
   "source": [
    "### Sets\n",
    "\n",
    "Sets are also useful, and can be __extremely__ fast for some kinds of tasks. "
   ]
  },
  {
   "cell_type": "code",
   "execution_count": 33,
   "metadata": {},
   "outputs": [
    {
     "data": {
      "text/plain": [
       "{2, 3, 4}"
      ]
     },
     "execution_count": 33,
     "metadata": {},
     "output_type": "execute_result"
    }
   ],
   "source": [
    "# initialize\n",
    "foo = {1,2,3,4,3,2}\n",
    "bar = set([4,3,2])\n",
    "\n",
    "# do some stuff\n",
    "foo.intersection(bar)"
   ]
  },
  {
   "cell_type": "code",
   "execution_count": 34,
   "metadata": {},
   "outputs": [
    {
     "data": {
      "text/plain": [
       "{2, 3, 4, 7}"
      ]
     },
     "execution_count": 34,
     "metadata": {},
     "output_type": "execute_result"
    }
   ],
   "source": [
    "bar.add(7)\n",
    "bar"
   ]
  },
  {
   "cell_type": "code",
   "execution_count": 35,
   "metadata": {},
   "outputs": [
    {
     "data": {
      "text/plain": [
       "{2, 3, 4}"
      ]
     },
     "execution_count": 35,
     "metadata": {},
     "output_type": "execute_result"
    }
   ],
   "source": [
    "foo.intersection(bar)"
   ]
  },
  {
   "cell_type": "code",
   "execution_count": 36,
   "metadata": {},
   "outputs": [
    {
     "data": {
      "text/plain": [
       "{2, 3, 4}"
      ]
     },
     "execution_count": 36,
     "metadata": {},
     "output_type": "execute_result"
    }
   ],
   "source": [
    "foo.discard(1)\n",
    "foo"
   ]
  },
  {
   "cell_type": "code",
   "execution_count": 37,
   "metadata": {},
   "outputs": [
    {
     "data": {
      "text/plain": [
       "{2, 3, 4}"
      ]
     },
     "execution_count": 37,
     "metadata": {},
     "output_type": "execute_result"
    }
   ],
   "source": [
    "foo.intersection(bar)"
   ]
  },
  {
   "cell_type": "markdown",
   "metadata": {},
   "source": [
    "Sets are really useful for counting the number of unique items in a list."
   ]
  },
  {
   "cell_type": "code",
   "execution_count": 38,
   "metadata": {},
   "outputs": [
    {
     "data": {
      "text/plain": [
       "13"
      ]
     },
     "execution_count": 38,
     "metadata": {},
     "output_type": "execute_result"
    }
   ],
   "source": [
    "foo = [1,3,4,5,6,5,4,3,2,2,4,6,3]\n",
    "len(foo)"
   ]
  },
  {
   "cell_type": "code",
   "execution_count": 39,
   "metadata": {},
   "outputs": [
    {
     "data": {
      "text/plain": [
       "6"
      ]
     },
     "execution_count": 39,
     "metadata": {},
     "output_type": "execute_result"
    }
   ],
   "source": [
    "len(set(foo))"
   ]
  },
  {
   "cell_type": "markdown",
   "metadata": {},
   "source": [
    "## Conditional operators\n",
    "\n",
    "We'll often have the need to make comparisons between different things, which we can do using conditional or logical operators. We do this in Python by using variations on `if`, `then`, and `else` statements. Here is a basic `if` statement."
   ]
  },
  {
   "cell_type": "code",
   "execution_count": 40,
   "metadata": {},
   "outputs": [
    {
     "name": "stdout",
     "output_type": "stream",
     "text": [
      "Hi!\n"
     ]
    }
   ],
   "source": [
    "if 1 < 2:\n",
    "  print(\"Hi!\")"
   ]
  },
  {
   "cell_type": "markdown",
   "metadata": {},
   "source": [
    "Note that the `then` is implicit in Python. We can make comparisons among many different objects. Be careful that you understand what's being compared."
   ]
  },
  {
   "cell_type": "code",
   "execution_count": 41,
   "metadata": {},
   "outputs": [
    {
     "data": {
      "text/plain": [
       "True"
      ]
     },
     "execution_count": 41,
     "metadata": {},
     "output_type": "execute_result"
    }
   ],
   "source": [
    "\"Mice\" > \"Elephants\" # will compare the unicode values"
   ]
  },
  {
   "cell_type": "markdown",
   "metadata": {},
   "source": [
    "We can also make more complex comparisons."
   ]
  },
  {
   "cell_type": "code",
   "execution_count": 42,
   "metadata": {},
   "outputs": [
    {
     "name": "stdout",
     "output_type": "stream",
     "text": [
      "1 is less than 4\n"
     ]
    }
   ],
   "source": [
    "a = int(input(\"Please enter an integer: \"))\n",
    "b = int(input(\"Please enter another integer: \"))\n",
    "if a > b:\n",
    "  print(\"{a} is bigger than {b}\".format(a=a, b=b))\n",
    "elif a < b: \n",
    "  print(\"{a} is less than {b}\".format(a=a, b=b))\n",
    "else:\n",
    "  print(\"{a} is equal to {b}\".format(a=a, b=b))"
   ]
  },
  {
   "cell_type": "markdown",
   "metadata": {},
   "source": [
    "## Loops"
   ]
  },
  {
   "cell_type": "markdown",
   "metadata": {},
   "source": [
    "If you have any experience with other programming languages, you've almost certainly encountered __loops.__ Not too many surprises in Python."
   ]
  },
  {
   "cell_type": "code",
   "execution_count": 43,
   "metadata": {},
   "outputs": [
    {
     "name": "stdout",
     "output_type": "stream",
     "text": [
      "Company A\n",
      "Company B\n",
      "Company Q\n",
      "Company Z\n"
     ]
    }
   ],
   "source": [
    "# create a list to loop over\n",
    "companies = [\"Company A\", \"Company B\", \"Company Q\", \"Company Z\"]\n",
    "\n",
    "# for loop\n",
    "for company in companies:\n",
    "  print(company)"
   ]
  },
  {
   "cell_type": "markdown",
   "metadata": {},
   "source": [
    "Note that \"company\" is just a variable we create to unpack \"companies\", we can name it anything."
   ]
  },
  {
   "cell_type": "code",
   "execution_count": 44,
   "metadata": {},
   "outputs": [
    {
     "name": "stdout",
     "output_type": "stream",
     "text": [
      "Company A\n",
      "Company B\n",
      "Company Q\n",
      "Company Z\n"
     ]
    }
   ],
   "source": [
    "for element in companies:\n",
    "  print(element)"
   ]
  },
  {
   "cell_type": "markdown",
   "metadata": {},
   "source": [
    "We can also use slice notation."
   ]
  },
  {
   "cell_type": "code",
   "execution_count": 45,
   "metadata": {},
   "outputs": [
    {
     "name": "stdout",
     "output_type": "stream",
     "text": [
      "0 Company A\n",
      "1 Company B\n",
      "2 Company Q\n",
      "3 Company Z\n"
     ]
    }
   ],
   "source": [
    "for i in range(0,len(companies)):\n",
    "  print(i, companies[i])"
   ]
  },
  {
   "cell_type": "markdown",
   "metadata": {},
   "source": [
    "The `enumerate` function can be useful for giving things ids."
   ]
  },
  {
   "cell_type": "code",
   "execution_count": 46,
   "metadata": {},
   "outputs": [
    {
     "name": "stdout",
     "output_type": "stream",
     "text": [
      "0 Company A\n",
      "1 Company B\n",
      "2 Company Q\n",
      "3 Company Z\n"
     ]
    }
   ],
   "source": [
    "for company_id, company in enumerate(companies):\n",
    "  print(company_id, company)"
   ]
  },
  {
   "cell_type": "markdown",
   "metadata": {},
   "source": [
    "You will also occasionally have use for the `while` loop."
   ]
  },
  {
   "cell_type": "code",
   "execution_count": 47,
   "metadata": {},
   "outputs": [
    {
     "name": "stdout",
     "output_type": "stream",
     "text": [
      "0\n",
      "1\n",
      "2\n",
      "3\n",
      "4\n",
      "5\n",
      "6\n",
      "7\n",
      "8\n",
      "9\n"
     ]
    }
   ],
   "source": [
    "i = 0\n",
    "while i < 10:\n",
    "  print(i)\n",
    "  i += 1"
   ]
  },
  {
   "cell_type": "markdown",
   "metadata": {},
   "source": [
    "We can escape from a loop by using `break`."
   ]
  },
  {
   "cell_type": "code",
   "execution_count": 48,
   "metadata": {},
   "outputs": [
    {
     "name": "stdout",
     "output_type": "stream",
     "text": [
      "0\n",
      "1\n",
      "2\n",
      "3\n",
      "4\n",
      "5\n",
      "6\n",
      "7\n",
      "8\n",
      "9\n"
     ]
    }
   ],
   "source": [
    "i = 0\n",
    "while True:\n",
    "  print(i)\n",
    "  i += 1\n",
    "  if i >= 10:\n",
    "    break"
   ]
  },
  {
   "cell_type": "markdown",
   "metadata": {},
   "source": [
    "## Functions\n",
    "Many software developers follow the DRY (\"don't repeat yourself\") principle, which I strongly recommend you internalize. As the name suggests, the DRY principle says, in essence, that we should avoid writing blocks of code that perform similar operations more than once. Following the DRY principle will make your code easier to read and to maintain. \n",
    "\n",
    "Most programming languages (Python included) provide various tools to make this easier, the most common of which are probably functions. Functions take a set of inputs (or parameters), run some code (e.g., transformations on those paramters), and then return an output. We can define functions easily in Python. Here's a basic one that builds on our previous exploration of sets to compute a Jaccard coefficient."
   ]
  },
  {
   "cell_type": "code",
   "execution_count": 49,
   "metadata": {},
   "outputs": [
    {
     "name": "stdout",
     "output_type": "stream",
     "text": [
      "0.25\n"
     ]
    }
   ],
   "source": [
    "def jaccard(a, b):\n",
    "  \"\"\"Given two lists, a and b, return the jaccard coefficient.\"\"\"\n",
    "  s1 = set(a)\n",
    "  s2 = set(b)\n",
    "  intersection = s1.intersection(s2)\n",
    "  union = s1.union(s2)\n",
    "  return len(intersection) / len(union)\n",
    "\n",
    "list1 = [1,2,3,4,5]\n",
    "list2 = [4,5,6,7,8]\n",
    "\n",
    "print(jaccard(list1,list2))"
   ]
  },
  {
   "cell_type": "markdown",
   "metadata": {},
   "source": [
    "Note that we need need to indent all of the function code below the function defintion. Here is another example of a function that we use in many different areas of social science. We'll make use of Python's built in `collections` library."
   ]
  },
  {
   "cell_type": "code",
   "execution_count": 50,
   "metadata": {},
   "outputs": [
    {
     "name": "stdout",
     "output_type": "stream",
     "text": [
      "0.5\n"
     ]
    }
   ],
   "source": [
    "import collections\n",
    "def herfindahl(a):\n",
    "  \"\"\"Given a list, a, of discrete items, the jaccard index.\"\"\"\n",
    "  X = collections.Counter(a)\n",
    "  total = sum(X.values())\n",
    "  h = []\n",
    "  for x_i in X.values():\n",
    "    h.append((float(x_i)/float(total))**2)\n",
    "  h = sum(h)\n",
    "  return h\n",
    "\n",
    "list1 = [2,2,2,4,4,4]\n",
    "print(herfindahl(list1))"
   ]
  },
  {
   "cell_type": "markdown",
   "metadata": {},
   "source": [
    "## File input/output\n",
    "So far, when we've been interacting with Python, we've been entering data manually. Most typically, though, we won't be generating our own data on the fly, but will instead want to read data from other sources. There are many different ways to do this, but quite often we'll just want to read some data from an existing file (e.g., of text). Let's first write some data to a file so we can then read it."
   ]
  },
  {
   "cell_type": "code",
   "execution_count": 51,
   "metadata": {},
   "outputs": [],
   "source": [
    "# make some data to write\n",
    "data = \"\"\"col1,col2,col3\\n\n",
    "          1,2,3\\n\n",
    "          4,5,6\\n\n",
    "          7,8,9\\n\"\"\"\n",
    "\n",
    "# write the file\n",
    "with open(\"mydata.csv\", \"w\") as f:\n",
    "    f.write(data)"
   ]
  },
  {
   "cell_type": "markdown",
   "metadata": {},
   "source": [
    "We've got a file. Yay! Now let's read it back into Python."
   ]
  },
  {
   "cell_type": "code",
   "execution_count": 52,
   "metadata": {},
   "outputs": [
    {
     "name": "stdout",
     "output_type": "stream",
     "text": [
      "col1,col2,col3\n",
      "\n",
      "          1,2,3\n",
      "\n",
      "          4,5,6\n",
      "\n",
      "          7,8,9\n",
      "\n"
     ]
    }
   ],
   "source": [
    "# open the file\n",
    "with open(\"mydata.csv\", \"r\") as f:\n",
    "    mydata = f.read()\n",
    "print(mydata)"
   ]
  },
  {
   "cell_type": "markdown",
   "metadata": {},
   "source": [
    "As an exercise, try to parse the comma separated data in `mydata` into a list of lists."
   ]
  },
  {
   "cell_type": "markdown",
   "metadata": {},
   "source": [
    "## Packages"
   ]
  },
  {
   "cell_type": "markdown",
   "metadata": {},
   "source": [
    "Packages are code libraries that extend the Python programming language by providing additional features (e.g., functions). Packages are made of modules, individual Python files with functions, classes, or other tools that you can import into a program. I tend to think about packages in terms of three categories. \n",
    "\n",
    "  * [The Python Standard Library](https://docs.python.org/3/library/index.html). Python comes with an extensive [Standard Library] of official packages. These are typically very fast, well written, and well maintained. \n",
    "  * [Python Package Index](https://pypi.org/). To supplement the already vast Standard Library, you will find literally thousands of user contributed packages on the Python Package Index. These tend to be of varying quality, but cover a much broader range of things than the Standard Library.\n",
    "  * [Custom packages](https://packaging.python.org/tutorials/packaging-projects/). You can also write your own Python packages, either for local use, or to contribute to the Python Package Index.\n",
    "  \n",
    "Installation of packages from the Python Package Index is done via the `pip` command.\n",
    "\n",
    "  * `pip install numpy` (Numeric Python, matrix algebra and many other mathematical functions)\n",
    "  * `pip install scipy` (Scientific Python, even more mathematical functions)\n",
    "\n",
    "Loading is easy."
   ]
  },
  {
   "cell_type": "code",
   "execution_count": 53,
   "metadata": {},
   "outputs": [
    {
     "data": {
      "text/plain": [
       "2.0"
      ]
     },
     "execution_count": 53,
     "metadata": {},
     "output_type": "execute_result"
    }
   ],
   "source": [
    "import numpy as np\n",
    "np.mean([1,2,3])"
   ]
  },
  {
   "cell_type": "markdown",
   "metadata": {},
   "source": [
    "The Standard Library has a useful random number generator, which we will have frequent occasion to use."
   ]
  },
  {
   "cell_type": "code",
   "execution_count": 54,
   "metadata": {},
   "outputs": [
    {
     "data": {
      "text/plain": [
       "'soggy'"
      ]
     },
     "execution_count": 54,
     "metadata": {},
     "output_type": "execute_result"
    }
   ],
   "source": [
    "import random\n",
    "list1 = [\"never\", \"eat\", \"soggy\", \"waffles\"]\n",
    "random.choice(list1)"
   ]
  },
  {
   "cell_type": "code",
   "execution_count": 55,
   "metadata": {},
   "outputs": [
    {
     "data": {
      "text/plain": [
       "80"
      ]
     },
     "execution_count": 55,
     "metadata": {},
     "output_type": "execute_result"
    }
   ],
   "source": [
    "random.randint(1,100)"
   ]
  },
  {
   "cell_type": "code",
   "execution_count": 56,
   "metadata": {},
   "outputs": [
    {
     "data": {
      "text/plain": [
       "0.47932183942721307"
      ]
     },
     "execution_count": 56,
     "metadata": {},
     "output_type": "execute_result"
    }
   ],
   "source": [
    "random.random()"
   ]
  },
  {
   "cell_type": "markdown",
   "metadata": {},
   "source": [
    "## Application\n",
    "\n",
    "Our focus for this session has been on learning Python. But I don't want you to go away without exploring a little something of substantive interest. Let's try a quick application that will bring together several features of Python we've learned about above.\n",
    "\n",
    "We'll open some [data](https://s3.amazonaws.com/data.patentsview.org/download/g_inventor_disambiguated.tsv.zip) on the gender of patent inventors from the United States Patent and Trademark Office's PatentsView website (which I've already downloaded)."
   ]
  },
  {
   "cell_type": "code",
   "execution_count": 57,
   "metadata": {},
   "outputs": [
    {
     "name": "stdout",
     "output_type": "stream",
     "text": [
      "21752645\n",
      "<class 'list'>\n"
     ]
    }
   ],
   "source": [
    "with open(\"data/g_inventor_disambiguated.tsv\", \"r\") as f:\n",
    "  data = f.readlines()\n",
    "print(len(data))\n",
    "print(type(data))"
   ]
  },
  {
   "cell_type": "markdown",
   "metadata": {},
   "source": [
    "This code opens `inventor_gender.tsv` and reads it line by line into a variable `data`. We then print out the length of data (which will correspond to the number of records) and the type (`list`). Now let's print out the first few lines."
   ]
  },
  {
   "cell_type": "code",
   "execution_count": 58,
   "metadata": {},
   "outputs": [
    {
     "name": "stdout",
     "output_type": "stream",
     "text": [
      "\"patent_id\"\t\"inventor_sequence\"\t\"inventor_id\"\t\"disambig_inventor_name_first\"\t\"disambig_inventor_name_last\"\t\"gender_code\"\t\"location_id\"\n",
      "\n",
      "\"D1006496\"\t0\t\"fl:we_ln:jiang-135\"\t\"Wenjing\"\t\"Jiang\"\t\"F\"\t\"9d072d42-49af-11ed-9879-1234bde3cd05\"\n",
      "\n",
      "\"6584128\"\t0\t\"fl:ri_ln:kroeger-1\"\t\"Richard\"\t\"Kroeger\"\t\"M\"\t\"\"\n",
      "\n",
      "\"4789863\"\t0\t\"fl:th_ln:bush-1\"\t\"Thomas A.\"\t\"Bush\"\t\"M\"\t\"\"\n",
      "\n",
      "\"11161990\"\t1\t\"fl:ma_ln:boudreaux-4\"\t\"Matthew F.\"\t\"Boudreaux\"\t\"M\"\t\"04726932-16c8-11ed-9b5f-1234bde3cd05\"\n",
      "\n"
     ]
    }
   ],
   "source": [
    "for line in data[0:5]:\n",
    "  print(line)"
   ]
  },
  {
   "cell_type": "markdown",
   "metadata": {},
   "source": [
    "The file consists of 7 columns, including one flag indicating inventor gender. Let's loop through the file and pull out the gender_code information. We'll want to skip the first line, which is the header."
   ]
  },
  {
   "cell_type": "code",
   "execution_count": 59,
   "metadata": {},
   "outputs": [
    {
     "name": "stdout",
     "output_type": "stream",
     "text": [
      "['F', 'M', 'M', 'M', 'M']\n",
      "{'', 'F', 'U', 'M'}\n"
     ]
    },
    {
     "data": {
      "text/plain": [
       "Counter({'M': 18121083, 'F': 2062215, 'U': 1524085, '': 45261})"
      ]
     },
     "execution_count": 59,
     "metadata": {},
     "output_type": "execute_result"
    }
   ],
   "source": [
    "inventor_gender = []\n",
    "for line in data[1:]:\n",
    "  assert len(line.split(\"\\t\")) == 7\n",
    "  inventor_gender.append(str(line.split(\"\\t\")[5].strip('\\\"')))\n",
    "\n",
    "# check out the results\n",
    "print(inventor_gender[0:5])\n",
    "print(set(inventor_gender))\n",
    "\n",
    "# see the distribution\n",
    "collections.Counter(inventor_gender)"
   ]
  },
  {
   "cell_type": "markdown",
   "metadata": {},
   "source": [
    "Let's save our cleaned up variable to a file."
   ]
  },
  {
   "cell_type": "code",
   "execution_count": 60,
   "metadata": {},
   "outputs": [],
   "source": [
    "with open(\"data/inventor_gender_clean.csv\", \"w\") as f:\n",
    "  for i in inventor_gender:\n",
    "    f.write(\"{}\\n\".format(i))"
   ]
  },
  {
   "cell_type": "markdown",
   "metadata": {},
   "source": [
    "Finally, how about a plot just for fun?"
   ]
  },
  {
   "cell_type": "code",
   "execution_count": 61,
   "metadata": {},
   "outputs": [
    {
     "data": {
      "image/png": "[encoded data removed]",
      "text/plain": [
       "<Figure size 640x480 with 1 Axes>"
      ]
     },
     "metadata": {},
     "output_type": "display_data"
    }
   ],
   "source": [
    "# load matplotlib\n",
    "import matplotlib.pyplot as plt\n",
    "\n",
    "# load pandas\n",
    "import pandas as pd\n",
    "\n",
    "# set as series\n",
    "s = pd.Series(inventor_gender)\n",
    "\n",
    "# histogram\n",
    "s.hist()\n",
    "plt.show()"
   ]
  },
  {
   "cell_type": "markdown",
   "metadata": {},
   "source": [
    "## Pandas\n",
    "\n",
    "To help introduce the language, in the workflow above, I focused primarily on using standard Python. However, in many cases, there are other libraries that will make our work much easier. Cheif among those is pandas, which is a Python package that introduces dataframe structures. We will use Pandas throughout the semester (we already did breifly above) and instruction will be given along the way."
   ]
  },
  {
   "cell_type": "markdown",
   "metadata": {},
   "source": [
    "## Exercises\n",
    "\n",
    "  * See if you can rewrite the Herfindahl function above to avoid using the `collections` package.\n",
    "  * Browse through the [Python Package Index](https://pypi.org/) for a package that looks interesting. Download the package and explore some of its functionaloty.\n",
    "  * Download the [nber](http://s3.amazonaws.com/data.patentsview.org/20191008/download/nber.tsv.zip) classification file from PatentsView. Load the file, and determine the most common patent category.\n",
    "  * Using Python's `random` package, some loops, and lists, try to verify the [birthday paradox](https://en.wikipedia.org/wiki/Birthday_problem) with a simple simulation. \n",
    "  * Similarly, see if you can write a simple simulation to examing the [Monty Hall](https://en.wikipedia.org/wiki/Monty_Hall_problem) problem."
   ]
  }
 ],
 "metadata": {
  "kernelspec": {
   "display_name": "Python 3",
   "language": "python",
   "name": "python3"
  },
  "language_info": {
   "codemirror_mode": {
    "name": "ipython",
    "version": 3
   },
   "file_extension": ".py",
   "mimetype": "text/x-python",
   "name": "python",
   "nbconvert_exporter": "python",
   "pygments_lexer": "ipython3",
   "version": "3.11.8"
  }
 },
 "nbformat": 4,
 "nbformat_minor": 4
}
